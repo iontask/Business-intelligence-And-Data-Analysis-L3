{
  "cells": [
    {
      "cell_type": "code",
      "execution_count": null,
      "metadata": {
        "colab": {
          "base_uri": "https://localhost:8080/"
        },
        "id": "Fsk0mEtmPIOE",
        "outputId": "6f689a31-91d2-4d39-e8ef-9ef96104a6e0"
      },
      "outputs": [
        {
          "name": "stdout",
          "output_type": "stream",
          "text": [
            "Requirement already satisfied: pyspark in /usr/local/lib/python3.10/dist-packages (3.5.3)\n",
            "Requirement already satisfied: py4j==0.10.9.7 in /usr/local/lib/python3.10/dist-packages (from pyspark) (0.10.9.7)\n"
          ]
        }
      ],
      "source": [
        "!pip install pyspark"
      ]
    },
    {
      "cell_type": "code",
      "execution_count": null,
      "metadata": {
        "colab": {
          "base_uri": "https://localhost:8080/"
        },
        "id": "9ZEr8ug09tAz",
        "outputId": "df3debfe-2beb-40b8-cc36-ccec3b1c34e7"
      },
      "outputs": [
        {
          "name": "stdout",
          "output_type": "stream",
          "text": [
            "+---------+-------+---+------------+\n",
            "|      nom| prenom|age|     filiere|\n",
            "+---------+-------+---+------------+\n",
            "|Benkirane|  Sarah| 21|Informatique|\n",
            "| ElAmrani|  Ahmed| 19|     Gestion|\n",
            "|  Hamdani|  Salma| 22|Informatique|\n",
            "|     Tazi|   Omar| 20|   Marketing|\n",
            "|   Fadili|Yasmine| 23|Data Science|\n",
            "|ElKhayati|    Ali| 18|Informatique|\n",
            "| Moujahid|  Leila| 25|Data Science|\n",
            "|  Chraibi| Hassan| 24|   Marketing|\n",
            "| Boukhari|  Imane| 22|     Gestion|\n",
            "| Zerouali| Rachid| 21|Informatique|\n",
            "| Mahmoudi|  Amina| 20|Data Science|\n",
            "|  Dahmani|  Karim| 23|     Gestion|\n",
            "|  Idrissi|  Noura| 19|   Marketing|\n",
            "|  Essaidi|  Samir| 26|Data Science|\n",
            "+---------+-------+---+------------+\n",
            "\n"
          ]
        }
      ],
      "source": [
        "#Pour lire un fichier CSV et le charger dans un DataFrame Spark\n",
        "from pyspark.sql import SparkSession\n",
        "\n",
        "spark = SparkSession.builder.appName(\"ETL Students\").getOrCreate()\n",
        "\n",
        "# Charger le fichier CSV\n",
        "df = spark.read.csv(\"/content/drive/MyDrive/Colab Notebooks/etudiants.csv\", header=True, inferSchema=True)\n",
        "df.show()"
      ]
    },
    {
      "cell_type": "code",
      "execution_count": null,
      "metadata": {
        "colab": {
          "base_uri": "https://localhost:8080/"
        },
        "id": "Yau4xR9xDDyB",
        "outputId": "86af18ad-680b-48ec-945a-5d1616a85cd0"
      },
      "outputs": [
        {
          "name": "stdout",
          "output_type": "stream",
          "text": [
            "+---------+-------+---+------------+\n",
            "|      nom| prenom|age|     filiere|\n",
            "+---------+-------+---+------------+\n",
            "|BENKIRANE|  Sarah| 21|Informatique|\n",
            "| ELAMRANI|  Ahmed| 19|     Gestion|\n",
            "|  HAMDANI|  Salma| 22|Informatique|\n",
            "|     TAZI|   Omar| 20|   Marketing|\n",
            "|   FADILI|Yasmine| 23|Data Science|\n",
            "|ELKHAYATI|    Ali| 18|Informatique|\n",
            "| MOUJAHID|  Leila| 25|Data Science|\n",
            "|  CHRAIBI| Hassan| 24|   Marketing|\n",
            "| BOUKHARI|  Imane| 22|     Gestion|\n",
            "| ZEROUALI| Rachid| 21|Informatique|\n",
            "| MAHMOUDI|  Amina| 20|Data Science|\n",
            "|  DAHMANI|  Karim| 23|     Gestion|\n",
            "|  IDRISSI|  Noura| 19|   Marketing|\n",
            "|  ESSAIDI|  Samir| 26|Data Science|\n",
            "+---------+-------+---+------------+\n",
            "\n"
          ]
        }
      ],
      "source": [
        "from pyspark.sql.functions import upper, col  # Import upper and col functions\n",
        "\n",
        "# Convertir les noms en majuscules\n",
        "df1 = df.withColumn(\"nom\", upper(col(\"nom\")))\n",
        "df1.show()"
      ]
    },
    {
      "cell_type": "code",
      "execution_count": null,
      "metadata": {
        "colab": {
          "base_uri": "https://localhost:8080/"
        },
        "id": "rWZIc31eDF08",
        "outputId": "fc6ab206-eadc-4b86-f379-8963ec667a31"
      },
      "outputs": [
        {
          "name": "stdout",
          "output_type": "stream",
          "text": [
            "+---------+-------+---+------------+\n",
            "|      nom| prenom|age|     filiere|\n",
            "+---------+-------+---+------------+\n",
            "|BENKIRANE|  Sarah| 21|Informatique|\n",
            "|  HAMDANI|  Salma| 22|Informatique|\n",
            "|   FADILI|Yasmine| 23|Data Science|\n",
            "| MOUJAHID|  Leila| 25|Data Science|\n",
            "|  CHRAIBI| Hassan| 24|   Marketing|\n",
            "| BOUKHARI|  Imane| 22|     Gestion|\n",
            "| ZEROUALI| Rachid| 21|Informatique|\n",
            "|  DAHMANI|  Karim| 23|     Gestion|\n",
            "|  ESSAIDI|  Samir| 26|Data Science|\n",
            "+---------+-------+---+------------+\n",
            "\n"
          ]
        }
      ],
      "source": [
        "#Filtrer les étudiants de plus de 20 ans\n",
        "df2= df1.filter(df1[\"age\"] > 20)\n",
        "df2.show()"
      ]
    },
    {
      "cell_type": "code",
      "execution_count": null,
      "metadata": {
        "colab": {
          "base_uri": "https://localhost:8080/",
          "height": 196
        },
        "id": "7jc7qt-KDIbr",
        "outputId": "f6e256bb-5888-48c3-b500-cdb9173833be"
      },
      "outputs": [
        {
          "output_type": "error",
          "ename": "NameError",
          "evalue": "name 'df2' is not defined",
          "traceback": [
            "\u001b[0;31m---------------------------------------------------------------------------\u001b[0m",
            "\u001b[0;31mNameError\u001b[0m                                 Traceback (most recent call last)",
            "\u001b[0;32m<ipython-input-1-f7781ef62ccd>\u001b[0m in \u001b[0;36m<cell line: 3>\u001b[0;34m()\u001b[0m\n\u001b[1;32m      1\u001b[0m \u001b[0;31m#Calculer la moyenne d'âge par filière\u001b[0m\u001b[0;34m\u001b[0m\u001b[0;34m\u001b[0m\u001b[0m\n\u001b[1;32m      2\u001b[0m \u001b[0;32mfrom\u001b[0m \u001b[0mpyspark\u001b[0m\u001b[0;34m.\u001b[0m\u001b[0msql\u001b[0m\u001b[0;34m.\u001b[0m\u001b[0mfunctions\u001b[0m \u001b[0;32mimport\u001b[0m \u001b[0mavg\u001b[0m\u001b[0;34m\u001b[0m\u001b[0;34m\u001b[0m\u001b[0m\n\u001b[0;32m----> 3\u001b[0;31m \u001b[0mstats\u001b[0m \u001b[0;34m=\u001b[0m \u001b[0mdf2\u001b[0m\u001b[0;34m.\u001b[0m\u001b[0mgroupBy\u001b[0m\u001b[0;34m(\u001b[0m\u001b[0;34m\"Filiere\"\u001b[0m\u001b[0;34m)\u001b[0m\u001b[0;34m.\u001b[0m\u001b[0magg\u001b[0m\u001b[0;34m(\u001b[0m\u001b[0mavg\u001b[0m\u001b[0;34m(\u001b[0m\u001b[0;34m\"age\"\u001b[0m\u001b[0;34m)\u001b[0m\u001b[0;34m.\u001b[0m\u001b[0malias\u001b[0m\u001b[0;34m(\u001b[0m\u001b[0;34m\"moyenne_age\"\u001b[0m\u001b[0;34m)\u001b[0m\u001b[0;34m)\u001b[0m\u001b[0;34m\u001b[0m\u001b[0;34m\u001b[0m\u001b[0m\n\u001b[0m\u001b[1;32m      4\u001b[0m \u001b[0mstats\u001b[0m\u001b[0;34m.\u001b[0m\u001b[0mshow\u001b[0m\u001b[0;34m(\u001b[0m\u001b[0;34m)\u001b[0m\u001b[0;34m\u001b[0m\u001b[0;34m\u001b[0m\u001b[0m\n",
            "\u001b[0;31mNameError\u001b[0m: name 'df2' is not defined"
          ]
        }
      ],
      "source": [
        "#Calculer la moyenne d'âge par filière\n",
        "from pyspark.sql.functions import avg\n",
        "stats = df2.groupBy(\"Filiere\").agg(avg(\"age\").alias(\"moyenne_age\"))\n",
        "stats.show()"
      ]
    },
    {
      "cell_type": "code",
      "execution_count": null,
      "metadata": {
        "id": "b2S3OQrIDL0f"
      },
      "outputs": [],
      "source": [
        "#Sauvegarde les données transformées dans un fichier CSV\n",
        "df2.write.csv(\"/content/etudiants_transforme.csv\", header=True)"
      ]
    },
    {
      "cell_type": "code",
      "execution_count": null,
      "metadata": {
        "colab": {
          "base_uri": "https://localhost:8080/"
        },
        "id": "AMRCtAepndby",
        "outputId": "ce845a42-aad9-4128-ec2e-8dc46cafd7f9"
      },
      "outputs": [
        {
          "name": "stdout",
          "output_type": "stream",
          "text": [
            "Collecting kafka-python\n",
            "  Downloading kafka_python-2.0.2-py2.py3-none-any.whl.metadata (7.8 kB)\n",
            "Downloading kafka_python-2.0.2-py2.py3-none-any.whl (246 kB)\n",
            "\u001b[?25l   \u001b[90m━━━━━━━━━━━━━━━━━━━━━━━━━━━━━━━━━━━━━━━━\u001b[0m \u001b[32m0.0/246.5 kB\u001b[0m \u001b[31m?\u001b[0m eta \u001b[36m-:--:--\u001b[0m\r\u001b[2K   \u001b[90m━━━━━━━━━━━━━━━━━━━━━━━━━━━━━━━━━━━━━━━━\u001b[0m \u001b[32m246.5/246.5 kB\u001b[0m \u001b[31m14.2 MB/s\u001b[0m eta \u001b[36m0:00:00\u001b[0m\n",
            "\u001b[?25hInstalling collected packages: kafka-python\n",
            "Successfully installed kafka-python-2.0.2\n"
          ]
        }
      ],
      "source": [
        "!pip install kafka-python"
      ]
    },
    {
      "cell_type": "code",
      "execution_count": null,
      "metadata": {
        "colab": {
          "base_uri": "https://localhost:8080/"
        },
        "id": "Z57kBUXVm6fV",
        "outputId": "89ea14e9-5c1d-42f2-8e34-9f76aab6b6d7"
      },
      "outputs": [
        {
          "name": "stdout",
          "output_type": "stream",
          "text": [
            "Message envoyé : {'nom': 'Benkirane', 'prenom': 'Sarah', 'age': '21', 'filiere': 'Informatique'}\n",
            "Message envoyé : {'nom': 'ElAmrani', 'prenom': 'Ahmed', 'age': '19', 'filiere': 'Gestion'}\n",
            "Message envoyé : {'nom': 'Hamdani', 'prenom': 'Salma', 'age': '22', 'filiere': 'Informatique'}\n",
            "Message envoyé : {'nom': 'Tazi', 'prenom': 'Omar', 'age': '20', 'filiere': 'Marketing'}\n",
            "Message envoyé : {'nom': 'Fadili', 'prenom': 'Yasmine', 'age': '23', 'filiere': 'Data Science'}\n",
            "Message envoyé : {'nom': 'ElKhayati', 'prenom': 'Ali', 'age': '18', 'filiere': 'Informatique'}\n",
            "Message envoyé : {'nom': 'Moujahid', 'prenom': 'Leila', 'age': '25', 'filiere': 'Data Science'}\n",
            "Message envoyé : {'nom': 'Chraibi', 'prenom': 'Hassan', 'age': '24', 'filiere': 'Marketing'}\n",
            "Message envoyé : {'nom': 'Boukhari', 'prenom': 'Imane', 'age': '22', 'filiere': 'Gestion'}\n",
            "Message envoyé : {'nom': 'Zerouali', 'prenom': 'Rachid', 'age': '21', 'filiere': 'Informatique'}\n",
            "Message envoyé : {'nom': 'Mahmoudi', 'prenom': 'Amina', 'age': '20', 'filiere': 'Data Science'}\n",
            "Message envoyé : {'nom': 'Dahmani', 'prenom': 'Karim', 'age': '23', 'filiere': 'Gestion'}\n",
            "Message envoyé : {'nom': 'Idrissi', 'prenom': 'Noura', 'age': '19', 'filiere': 'Marketing'}\n",
            "Message envoyé : {'nom': 'Essaidi', 'prenom': 'Samir', 'age': '26', 'filiere': 'Data Science'}\n",
            "Tous les messages ont été envoyés !\n"
          ]
        }
      ],
      "source": [
        "import csv\n",
        "import json\n",
        "from kafka import KafkaProducer\n",
        "\n",
        "# Configuration du producteur Kafka\n",
        "producer = KafkaProducer(\n",
        "    bootstrap_servers='kafka-cda26e1-ibenchayb-eaa2.h.aivencloud.com:10874',\n",
        "    security_protocol='SSL',\n",
        "    ssl_cafile='/content/drive/MyDrive/Colab Notebooks/Exam_BI_Moha/ca.pem',\n",
        "    ssl_certfile='/content/drive/MyDrive/Colab Notebooks/Exam_BI_Moha/service.cert',\n",
        "    ssl_keyfile='/content/drive/MyDrive/Colab Notebooks/Exam_BI_Moha/service.key',\n",
        "    value_serializer=lambda v: json.dumps(v).encode('utf-8')  # Convertir les données en JSON\n",
        ")\n",
        "\n",
        "# Chemin du fichier CSV\n",
        "csv_file_path = \"/content/drive/MyDrive/Colab Notebooks/Exam_BI_Moha/etudiants.csv\"\n",
        "\n",
        "# Lire le fichier CSV et envoyer chaque ligne à Kafka\n",
        "with open(csv_file_path, mode='r', encoding='utf-8') as file:\n",
        "    csv_reader = csv.DictReader(file)  # Lire les lignes sous forme de dictionnaire\n",
        "    for row in csv_reader:\n",
        "        producer.send('mohamed', value=row)  # Envoyer la ligne comme message JSON\n",
        "        print(f\"Message envoyé : {row}\")\n",
        "\n",
        "# Finaliser l'envoi\n",
        "producer.flush()\n",
        "print(\"Tous les messages ont été envoyés !\")"
      ]
    },
    {
      "cell_type": "code",
      "execution_count": null,
      "metadata": {
        "colab": {
          "background_save": true,
          "base_uri": "https://localhost:8080/"
        },
        "id": "30Af2UEEnbF3",
        "outputId": "3be99e23-ab59-4b08-d5c7-437547518c07"
      },
      "outputs": [
        {
          "name": "stdout",
          "output_type": "stream",
          "text": [
            "En attente de messages...\n"
          ]
        },
        {
          "name": "stderr",
          "output_type": "stream",
          "text": [
            "WARNING:kafka.client:Node 3 connection failed -- refreshing metadata\n",
            "WARNING:kafka.client:Node 1 connection failed -- refreshing metadata\n",
            "WARNING:kafka.client:Node 3 connection failed -- refreshing metadata\n"
          ]
        }
      ],
      "source": [
        "from kafka import KafkaConsumer\n",
        "import json\n",
        "\n",
        "# Configuration du consommateur Kafka\n",
        "TOPIC_NAME = \"mohamed\"\n",
        "consumer = KafkaConsumer(\n",
        "    TOPIC_NAME,\n",
        "    bootstrap_servers='kafka-cda26e1-ibenchayb-eaa2.h.aivencloud.com:10874',\n",
        "    client_id=\"CONSUMER_CLIENT_ID\",\n",
        "    group_id=\"CONSUMER_GROUP_ID\",\n",
        "    security_protocol='SSL',\n",
        "    ssl_cafile='/content/drive/MyDrive/Colab Notebooks/Exam_BI_Moha/ca.pem',\n",
        "    ssl_certfile='/content/drive/MyDrive/Colab Notebooks/Exam_BI_Moha/service.cert',\n",
        "    ssl_keyfile='/content/drive/MyDrive/Colab Notebooks/Exam_BI_Moha/service.key',\n",
        "    value_deserializer=lambda m: json.loads(m.decode('utf-8'))  # Désérialisation des messages JSON\n",
        ")\n",
        "\n",
        "# Consommer les messages et les afficher\n",
        "print(\"En attente de messages...\")\n",
        "\n",
        "for message in consumer:\n",
        "    # Décodage et affichage du message\n",
        "    print(f\"Message reçu : {message.value}\")\n",
        "    # Vous pouvez ajouter une logique supplémentaire pour traiter les données du message ici"
      ]
    }
  ],
  "metadata": {
    "colab": {
      "provenance": []
    },
    "kernelspec": {
      "display_name": "Python 3",
      "name": "python3"
    },
    "language_info": {
      "name": "python"
    }
  },
  "nbformat": 4,
  "nbformat_minor": 0
}