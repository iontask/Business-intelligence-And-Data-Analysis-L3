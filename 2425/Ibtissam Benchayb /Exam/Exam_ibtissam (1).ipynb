{
  "cells": [
    {
      "cell_type": "code",
      "execution_count": null,
      "metadata": {
        "colab": {
          "base_uri": "https://localhost:8080/"
        },
        "id": "BKWDh1VAQ4ap",
        "outputId": "437fe39a-809d-478a-92d4-a044faad8d91"
      },
      "outputs": [
        {
          "name": "stdout",
          "output_type": "stream",
          "text": [
            "Requirement already satisfied: pyspark in /usr/local/lib/python3.10/dist-packages (3.5.3)\n",
            "Requirement already satisfied: py4j==0.10.9.7 in /usr/local/lib/python3.10/dist-packages (from pyspark) (0.10.9.7)\n"
          ]
        }
      ],
      "source": [
        "!pip install pyspark"
      ]
    },
    {
      "cell_type": "code",
      "execution_count": null,
      "metadata": {
        "id": "qbfkZr4Y9sBX"
      },
      "outputs": [],
      "source": [
        "#Pour lire un fichier CSV et le charger dans un DataFrame Spark\n",
        "from pyspark.sql import SparkSession\n",
        "\n",
        "spark = SparkSession.builder.appName(\"ETL Students\").getOrCreate()\n",
        "\n",
        "# Charger le fichier CSV\n",
        "df = spark.read.csv(\"/content/drive/MyDrive/Colab Notebooks/etudiants_large.csv\", header=True, inferSchema=True)\n",
        "df.show()"
      ]
    },
    {
      "cell_type": "code",
      "execution_count": null,
      "metadata": {
        "colab": {
          "background_save": true,
          "base_uri": "https://localhost:8080/"
        },
        "id": "NXNDGAY0H4xe",
        "outputId": "1eebbdca-9f0e-4219-fbd1-b833be29eb2d"
      },
      "outputs": [
        {
          "name": "stdout",
          "output_type": "stream",
          "text": [
            "+--------+---------+---+------------+\n",
            "|     nom|   prenom|age|     filiere|\n",
            "+--------+---------+---+------------+\n",
            "|  BROOKS|    Tracy| 23|   Marketing|\n",
            "|   RAMOS|     John| 23|     Gestion|\n",
            "|MITCHELL|  Kristin| 20|Informatique|\n",
            "|  CHAVEZ|    Kevin| 26|Data Science|\n",
            "|BAUTISTA|    James| 26|     Gestion|\n",
            "| BALDWIN|   Justin| 22|Data Science|\n",
            "|MARTINEZ|      Ray| 18|   Marketing|\n",
            "|   SCOTT|  Zachary| 21|     Gestion|\n",
            "|  DANIEL|   Alexis| 23|   Marketing|\n",
            "|CRAWFORD|     Erin| 25|   Marketing|\n",
            "|    HALL|    Glenn| 26|Informatique|\n",
            "| WOODARD|Christina| 22|   Marketing|\n",
            "| JOHNSON| Jonathan| 20|Informatique|\n",
            "|  NORTON|   Amanda| 23|     Gestion|\n",
            "|   JONES|Elizabeth| 26|Data Science|\n",
            "|  LARSON| Jennifer| 23|   Marketing|\n",
            "|MARTINEZ|    Peter| 25|Informatique|\n",
            "|    BOYD|  Bridget| 26|Informatique|\n",
            "|    CHEN|   Ashley| 20|   Marketing|\n",
            "|    WOOD|   Daniel| 22|     Gestion|\n",
            "+--------+---------+---+------------+\n",
            "only showing top 20 rows\n",
            "\n"
          ]
        }
      ],
      "source": [
        "from pyspark.sql.functions import upper, col  # Import upper and col functions\n",
        "\n",
        "# Convertir les noms en majuscules\n",
        "df1 = df.withColumn(\"nom\", upper(col(\"nom\")))\n",
        "df1.show()"
      ]
    },
    {
      "cell_type": "code",
      "execution_count": null,
      "metadata": {
        "colab": {
          "base_uri": "https://localhost:8080/"
        },
        "id": "BWKxxa21H6jX",
        "outputId": "f88e4412-46c1-404e-d8c9-374f70599bbf"
      },
      "outputs": [
        {
          "name": "stdout",
          "output_type": "stream",
          "text": [
            "+--------+-----------+---+------------+\n",
            "|     nom|     prenom|age|     filiere|\n",
            "+--------+-----------+---+------------+\n",
            "|  BROOKS|      Tracy| 23|   Marketing|\n",
            "|   RAMOS|       John| 23|     Gestion|\n",
            "|  CHAVEZ|      Kevin| 26|Data Science|\n",
            "|BAUTISTA|      James| 26|     Gestion|\n",
            "| BALDWIN|     Justin| 22|Data Science|\n",
            "|   SCOTT|    Zachary| 21|     Gestion|\n",
            "|  DANIEL|     Alexis| 23|   Marketing|\n",
            "|CRAWFORD|       Erin| 25|   Marketing|\n",
            "|    HALL|      Glenn| 26|Informatique|\n",
            "| WOODARD|  Christina| 22|   Marketing|\n",
            "|  NORTON|     Amanda| 23|     Gestion|\n",
            "|   JONES|  Elizabeth| 26|Data Science|\n",
            "|  LARSON|   Jennifer| 23|   Marketing|\n",
            "|MARTINEZ|      Peter| 25|Informatique|\n",
            "|    BOYD|    Bridget| 26|Informatique|\n",
            "|    WOOD|     Daniel| 22|     Gestion|\n",
            "|  RITTER|Christopher| 22|   Marketing|\n",
            "|    ROSE|       Tina| 21|   Marketing|\n",
            "|   WELLS|    Jessica| 21|Data Science|\n",
            "| WHEELER|     Amanda| 24|     Gestion|\n",
            "+--------+-----------+---+------------+\n",
            "only showing top 20 rows\n",
            "\n"
          ]
        }
      ],
      "source": [
        "#Filtrer les étudiants de plus de 20 ans\n",
        "df2= df1.filter(df1[\"age\"] > 20)\n",
        "df2.show()"
      ]
    },
    {
      "cell_type": "code",
      "execution_count": null,
      "metadata": {
        "colab": {
          "base_uri": "https://localhost:8080/"
        },
        "id": "Gvbw8OsMH8O_",
        "outputId": "2399eb58-d732-437d-e2d0-0e8be47a18e9"
      },
      "outputs": [
        {
          "name": "stdout",
          "output_type": "stream",
          "text": [
            "+------------+------------------+\n",
            "|     Filiere|       moyenne_age|\n",
            "+------------+------------------+\n",
            "|Informatique|24.384615384615383|\n",
            "|     Gestion|23.333333333333332|\n",
            "|   Marketing|22.904761904761905|\n",
            "|Data Science|             23.25|\n",
            "+------------+------------------+\n",
            "\n"
          ]
        }
      ],
      "source": [
        "#Calculer la moyenne d'âge par filière\n",
        "from pyspark.sql.functions import avg\n",
        "stats = df2.groupBy(\"Filiere\").agg(avg(\"age\").alias(\"moyenne_age\"))\n",
        "stats.show()"
      ]
    },
    {
      "cell_type": "code",
      "execution_count": null,
      "metadata": {
        "id": "3Ph3qBoAH87P"
      },
      "outputs": [],
      "source": [
        "#Sauvegarde les données transformées dans un fichier CSV\n",
        "df2.write.csv(\"/content/etudiants_transforme.csv\", header=True)"
      ]
    },
    {
      "cell_type": "code",
      "execution_count": null,
      "metadata": {
        "colab": {
          "base_uri": "https://localhost:8080/"
        },
        "id": "vqpVHg7tiyah",
        "outputId": "c64fe7d8-7910-4ef9-f07b-001213de534d"
      },
      "outputs": [
        {
          "name": "stdout",
          "output_type": "stream",
          "text": [
            "Collecting kafka-python\n",
            "  Downloading kafka_python-2.0.2-py2.py3-none-any.whl.metadata (7.8 kB)\n",
            "Downloading kafka_python-2.0.2-py2.py3-none-any.whl (246 kB)\n",
            "\u001b[?25l   \u001b[90m━━━━━━━━━━━━━━━━━━━━━━━━━━━━━━━━━━━━━━━━\u001b[0m \u001b[32m0.0/246.5 kB\u001b[0m \u001b[31m?\u001b[0m eta \u001b[36m-:--:--\u001b[0m\r\u001b[2K   \u001b[91m━━━━━━━━━━━\u001b[0m\u001b[91m╸\u001b[0m\u001b[90m━━━━━━━━━━━━━━━━━━━━━━━━━━━━\u001b[0m \u001b[32m71.7/246.5 kB\u001b[0m \u001b[31m2.3 MB/s\u001b[0m eta \u001b[36m0:00:01\u001b[0m\r\u001b[2K   \u001b[90m━━━━━━━━━━━━━━━━━━━━━━━━━━━━━━━━━━━━━━━━\u001b[0m \u001b[32m246.5/246.5 kB\u001b[0m \u001b[31m3.4 MB/s\u001b[0m eta \u001b[36m0:00:00\u001b[0m\n",
            "\u001b[?25hInstalling collected packages: kafka-python\n",
            "Successfully installed kafka-python-2.0.2\n"
          ]
        }
      ],
      "source": [
        "!pip install kafka-python"
      ]
    },
    {
      "cell_type": "code",
      "execution_count": null,
      "metadata": {
        "colab": {
          "base_uri": "https://localhost:8080/"
        },
        "id": "YCmf7e5piu7a",
        "outputId": "2e6d0c23-5bb0-4010-99bf-4844de54dceb"
      },
      "outputs": [
        {
          "name": "stdout",
          "output_type": "stream",
          "text": [
            "Message envoyé : {'nom': 'Brooks', 'prenom': 'Tracy', 'age': '23', 'filiere': 'Marketing'}\n",
            "Message envoyé : {'nom': 'Ramos', 'prenom': 'John', 'age': '23', 'filiere': 'Gestion'}\n",
            "Message envoyé : {'nom': 'Mitchell', 'prenom': 'Kristin', 'age': '20', 'filiere': 'Informatique'}\n",
            "Message envoyé : {'nom': 'Chavez', 'prenom': 'Kevin', 'age': '26', 'filiere': 'Data Science'}\n",
            "Message envoyé : {'nom': 'Bautista', 'prenom': 'James', 'age': '26', 'filiere': 'Gestion'}\n",
            "Message envoyé : {'nom': 'Baldwin', 'prenom': 'Justin', 'age': '22', 'filiere': 'Data Science'}\n",
            "Message envoyé : {'nom': 'Martinez', 'prenom': 'Ray', 'age': '18', 'filiere': 'Marketing'}\n",
            "Message envoyé : {'nom': 'Scott', 'prenom': 'Zachary', 'age': '21', 'filiere': 'Gestion'}\n",
            "Message envoyé : {'nom': 'Daniel', 'prenom': 'Alexis', 'age': '23', 'filiere': 'Marketing'}\n",
            "Message envoyé : {'nom': 'Crawford', 'prenom': 'Erin', 'age': '25', 'filiere': 'Marketing'}\n",
            "Message envoyé : {'nom': 'Hall', 'prenom': 'Glenn', 'age': '26', 'filiere': 'Informatique'}\n",
            "Message envoyé : {'nom': 'Woodard', 'prenom': 'Christina', 'age': '22', 'filiere': 'Marketing'}\n",
            "Message envoyé : {'nom': 'Johnson', 'prenom': 'Jonathan', 'age': '20', 'filiere': 'Informatique'}\n",
            "Message envoyé : {'nom': 'Norton', 'prenom': 'Amanda', 'age': '23', 'filiere': 'Gestion'}\n",
            "Message envoyé : {'nom': 'Jones', 'prenom': 'Elizabeth', 'age': '26', 'filiere': 'Data Science'}\n",
            "Message envoyé : {'nom': 'Larson', 'prenom': 'Jennifer', 'age': '23', 'filiere': 'Marketing'}\n",
            "Message envoyé : {'nom': 'Martinez', 'prenom': 'Peter', 'age': '25', 'filiere': 'Informatique'}\n",
            "Message envoyé : {'nom': 'Boyd', 'prenom': 'Bridget', 'age': '26', 'filiere': 'Informatique'}\n",
            "Message envoyé : {'nom': 'Chen', 'prenom': 'Ashley', 'age': '20', 'filiere': 'Marketing'}\n",
            "Message envoyé : {'nom': 'Wood', 'prenom': 'Daniel', 'age': '22', 'filiere': 'Gestion'}\n",
            "Message envoyé : {'nom': 'Ritter', 'prenom': 'Christopher', 'age': '22', 'filiere': 'Marketing'}\n",
            "Message envoyé : {'nom': 'Rodriguez', 'prenom': 'Gina', 'age': '20', 'filiere': 'Informatique'}\n",
            "Message envoyé : {'nom': 'Rose', 'prenom': 'Tina', 'age': '21', 'filiere': 'Marketing'}\n",
            "Message envoyé : {'nom': 'Wells', 'prenom': 'Jessica', 'age': '21', 'filiere': 'Data Science'}\n",
            "Message envoyé : {'nom': 'Wheeler', 'prenom': 'Amanda', 'age': '24', 'filiere': 'Gestion'}\n",
            "Message envoyé : {'nom': 'Fuentes', 'prenom': 'Mary', 'age': '19', 'filiere': 'Informatique'}\n",
            "Message envoyé : {'nom': 'Wilson', 'prenom': 'Ashley', 'age': '21', 'filiere': 'Data Science'}\n",
            "Message envoyé : {'nom': 'Bruce', 'prenom': 'Katelyn', 'age': '25', 'filiere': 'Data Science'}\n",
            "Message envoyé : {'nom': 'Coffey', 'prenom': 'Kari', 'age': '18', 'filiere': 'Marketing'}\n",
            "Message envoyé : {'nom': 'Cox', 'prenom': 'April', 'age': '22', 'filiere': 'Marketing'}\n",
            "Message envoyé : {'nom': 'Harris', 'prenom': 'Connie', 'age': '18', 'filiere': 'Informatique'}\n",
            "Message envoyé : {'nom': 'Smith', 'prenom': 'Michael', 'age': '22', 'filiere': 'Marketing'}\n",
            "Message envoyé : {'nom': 'Webb', 'prenom': 'Sandra', 'age': '21', 'filiere': 'Data Science'}\n",
            "Message envoyé : {'nom': 'Fleming', 'prenom': 'Michael', 'age': '25', 'filiere': 'Marketing'}\n",
            "Message envoyé : {'nom': 'Russell', 'prenom': 'Chloe', 'age': '25', 'filiere': 'Marketing'}\n",
            "Message envoyé : {'nom': 'Cummings', 'prenom': 'Teresa', 'age': '18', 'filiere': 'Marketing'}\n",
            "Message envoyé : {'nom': 'Cummings', 'prenom': 'Kimberly', 'age': '23', 'filiere': 'Gestion'}\n",
            "Message envoyé : {'nom': 'Fuller', 'prenom': 'Alicia', 'age': '18', 'filiere': 'Gestion'}\n",
            "Message envoyé : {'nom': 'Thompson', 'prenom': 'Jon', 'age': '18', 'filiere': 'Gestion'}\n",
            "Message envoyé : {'nom': 'Mclaughlin', 'prenom': 'Danielle', 'age': '24', 'filiere': 'Gestion'}\n",
            "Message envoyé : {'nom': 'Smith', 'prenom': 'Tina', 'age': '25', 'filiere': 'Marketing'}\n",
            "Message envoyé : {'nom': 'Flores', 'prenom': 'Cheryl', 'age': '24', 'filiere': 'Informatique'}\n",
            "Message envoyé : {'nom': 'Leonard', 'prenom': 'Kevin', 'age': '23', 'filiere': 'Gestion'}\n",
            "Message envoyé : {'nom': 'Brown', 'prenom': 'Amanda', 'age': '22', 'filiere': 'Gestion'}\n",
            "Message envoyé : {'nom': 'Blackwell', 'prenom': 'Julie', 'age': '20', 'filiere': 'Gestion'}\n",
            "Message envoyé : {'nom': 'Harrington', 'prenom': 'Adam', 'age': '25', 'filiere': 'Gestion'}\n",
            "Message envoyé : {'nom': 'Wise', 'prenom': 'Stephanie', 'age': '21', 'filiere': 'Data Science'}\n",
            "Message envoyé : {'nom': 'Aguirre', 'prenom': 'Melanie', 'age': '26', 'filiere': 'Marketing'}\n",
            "Message envoyé : {'nom': 'Harrison', 'prenom': 'Heather', 'age': '22', 'filiere': 'Marketing'}\n",
            "Message envoyé : {'nom': 'Lane', 'prenom': 'Ashley', 'age': '24', 'filiere': 'Data Science'}\n",
            "Message envoyé : {'nom': 'Crawford', 'prenom': 'Karla', 'age': '26', 'filiere': 'Data Science'}\n",
            "Message envoyé : {'nom': 'Franco', 'prenom': 'Nicholas', 'age': '25', 'filiere': 'Informatique'}\n",
            "Message envoyé : {'nom': 'Navarro', 'prenom': 'Kelly', 'age': '24', 'filiere': 'Gestion'}\n",
            "Message envoyé : {'nom': 'Chen', 'prenom': 'Jeremy', 'age': '21', 'filiere': 'Marketing'}\n",
            "Message envoyé : {'nom': 'Wheeler', 'prenom': 'Michael', 'age': '18', 'filiere': 'Gestion'}\n",
            "Message envoyé : {'nom': 'Herman', 'prenom': 'Jaime', 'age': '19', 'filiere': 'Data Science'}\n",
            "Message envoyé : {'nom': 'Andrews', 'prenom': 'Phillip', 'age': '21', 'filiere': 'Marketing'}\n",
            "Message envoyé : {'nom': 'Hardin', 'prenom': 'Andrew', 'age': '21', 'filiere': 'Data Science'}\n",
            "Message envoyé : {'nom': 'Hess', 'prenom': 'Alex', 'age': '24', 'filiere': 'Data Science'}\n",
            "Message envoyé : {'nom': 'Petersen', 'prenom': 'Theodore', 'age': '25', 'filiere': 'Informatique'}\n",
            "Message envoyé : {'nom': 'Ellis', 'prenom': 'Anthony', 'age': '18', 'filiere': 'Gestion'}\n",
            "Message envoyé : {'nom': 'Thompson', 'prenom': 'Christopher', 'age': '24', 'filiere': 'Informatique'}\n",
            "Message envoyé : {'nom': 'Torres', 'prenom': 'Emily', 'age': '19', 'filiere': 'Informatique'}\n",
            "Message envoyé : {'nom': 'Walters', 'prenom': 'Bradley', 'age': '20', 'filiere': 'Gestion'}\n",
            "Message envoyé : {'nom': 'Hansen', 'prenom': 'Manuel', 'age': '22', 'filiere': 'Data Science'}\n",
            "Message envoyé : {'nom': 'Williams', 'prenom': 'Michael', 'age': '18', 'filiere': 'Marketing'}\n",
            "Message envoyé : {'nom': 'Buchanan', 'prenom': 'Penny', 'age': '21', 'filiere': 'Gestion'}\n",
            "Message envoyé : {'nom': 'Griffith', 'prenom': 'Kenneth', 'age': '24', 'filiere': 'Data Science'}\n",
            "Message envoyé : {'nom': 'Gutierrez', 'prenom': 'Jessica', 'age': '23', 'filiere': 'Marketing'}\n",
            "Message envoyé : {'nom': 'Thomas', 'prenom': 'Kelly', 'age': '25', 'filiere': 'Gestion'}\n",
            "Message envoyé : {'nom': 'Swanson', 'prenom': 'Kari', 'age': '22', 'filiere': 'Data Science'}\n",
            "Message envoyé : {'nom': 'York', 'prenom': 'Charles', 'age': '24', 'filiere': 'Informatique'}\n",
            "Message envoyé : {'nom': 'Clayton', 'prenom': 'Daniel', 'age': '25', 'filiere': 'Informatique'}\n",
            "Message envoyé : {'nom': 'Moreno', 'prenom': 'Mariah', 'age': '24', 'filiere': 'Gestion'}\n",
            "Message envoyé : {'nom': 'Park', 'prenom': 'Melissa', 'age': '26', 'filiere': 'Data Science'}\n",
            "Message envoyé : {'nom': 'Levine', 'prenom': 'Melanie', 'age': '18', 'filiere': 'Informatique'}\n",
            "Message envoyé : {'nom': 'Burgess', 'prenom': 'Caleb', 'age': '23', 'filiere': 'Gestion'}\n",
            "Message envoyé : {'nom': 'Baxter', 'prenom': 'Michael', 'age': '25', 'filiere': 'Informatique'}\n",
            "Message envoyé : {'nom': 'James', 'prenom': 'Sandra', 'age': '24', 'filiere': 'Marketing'}\n",
            "Message envoyé : {'nom': 'Alvarez', 'prenom': 'Kurt', 'age': '21', 'filiere': 'Data Science'}\n",
            "Message envoyé : {'nom': 'Aguirre', 'prenom': 'Brandon', 'age': '20', 'filiere': 'Informatique'}\n",
            "Message envoyé : {'nom': 'Reed', 'prenom': 'Paula', 'age': '20', 'filiere': 'Data Science'}\n",
            "Message envoyé : {'nom': 'Garcia', 'prenom': 'Kyle', 'age': '19', 'filiere': 'Data Science'}\n",
            "Message envoyé : {'nom': 'Leach', 'prenom': 'Laura', 'age': '19', 'filiere': 'Informatique'}\n",
            "Message envoyé : {'nom': 'Lawrence', 'prenom': 'Vanessa', 'age': '22', 'filiere': 'Gestion'}\n",
            "Message envoyé : {'nom': 'Soto', 'prenom': 'Michael', 'age': '25', 'filiere': 'Data Science'}\n",
            "Message envoyé : {'nom': 'Parks', 'prenom': 'Michael', 'age': '22', 'filiere': 'Marketing'}\n",
            "Message envoyé : {'nom': 'Wheeler', 'prenom': 'Donna', 'age': '26', 'filiere': 'Informatique'}\n",
            "Message envoyé : {'nom': 'Lee', 'prenom': 'Kristen', 'age': '19', 'filiere': 'Data Science'}\n",
            "Message envoyé : {'nom': 'Smith', 'prenom': 'Colton', 'age': '20', 'filiere': 'Data Science'}\n",
            "Message envoyé : {'nom': 'Davidson', 'prenom': 'Kelly', 'age': '23', 'filiere': 'Data Science'}\n",
            "Message envoyé : {'nom': 'Phillips', 'prenom': 'Gary', 'age': '20', 'filiere': 'Data Science'}\n",
            "Message envoyé : {'nom': 'Jensen', 'prenom': 'Thomas', 'age': '21', 'filiere': 'Marketing'}\n",
            "Message envoyé : {'nom': 'Brown', 'prenom': 'Crystal', 'age': '19', 'filiere': 'Informatique'}\n",
            "Message envoyé : {'nom': 'Brown', 'prenom': 'Todd', 'age': '25', 'filiere': 'Gestion'}\n",
            "Message envoyé : {'nom': 'Frank', 'prenom': 'Jeffery', 'age': '21', 'filiere': 'Informatique'}\n",
            "Message envoyé : {'nom': 'Foster', 'prenom': 'Ann', 'age': '21', 'filiere': 'Informatique'}\n",
            "Message envoyé : {'nom': 'Garcia', 'prenom': 'Shannon', 'age': '18', 'filiere': 'Data Science'}\n",
            "Message envoyé : {'nom': 'Conner', 'prenom': 'Troy', 'age': '23', 'filiere': 'Marketing'}\n",
            "Message envoyé : {'nom': 'Bryant', 'prenom': 'Christopher', 'age': '24', 'filiere': 'Data Science'}\n",
            "Tous les messages ont été envoyés !\n"
          ]
        }
      ],
      "source": [
        "import csv\n",
        "import json\n",
        "from kafka import KafkaProducer\n",
        "\n",
        "# Configuration du producteur Kafka\n",
        "producer = KafkaProducer(\n",
        "    bootstrap_servers='kafka-fadbfb9-hyibtissam-ca1b.h.aivencloud.com:11468',\n",
        "    security_protocol='SSL',\n",
        "    ssl_cafile='/content/drive/MyDrive/Colab Notebooks/exam_BI/ca.pem',\n",
        "    ssl_certfile='/content/drive/MyDrive/Colab Notebooks/exam_BI/service.cert',\n",
        "    ssl_keyfile='/content/drive/MyDrive/Colab Notebooks/exam_BI/service.key',\n",
        "    value_serializer=lambda v: json.dumps(v).encode('utf-8')  # Convertir les données en JSON\n",
        ")\n",
        "\n",
        "# Chemin du fichier CSV\n",
        "csv_file_path = \"/content/drive/MyDrive/Colab Notebooks/exam_BI/etudiants_large.csv\"\n",
        "\n",
        "# Lire le fichier CSV et envoyer chaque ligne à Kafka\n",
        "with open(csv_file_path, mode='r', encoding='utf-8') as file:\n",
        "    csv_reader = csv.DictReader(file)  # Lire les lignes sous forme de dictionnaire\n",
        "    for row in csv_reader:\n",
        "        producer.send('ibtissam', value=row)  # Envoyer la ligne comme message JSON\n",
        "        print(f\"Message envoyé : {row}\")\n",
        "\n",
        "# Finaliser l'envoi\n",
        "producer.flush()\n",
        "print(\"Tous les messages ont été envoyés !\")"
      ]
    },
    {
      "cell_type": "code",
      "execution_count": null,
      "metadata": {
        "colab": {
          "background_save": true,
          "base_uri": "https://localhost:8080/",
          "height": 410
        },
        "id": "MscIlTnXlx2p",
        "outputId": "17813f09-9730-433b-af35-1fbe0d5e64b9"
      },
      "outputs": [
        {
          "name": "stdout",
          "output_type": "stream",
          "text": [
            "En attente de messages...\n"
          ]
        },
        {
          "name": "stderr",
          "output_type": "stream",
          "text": [
            "WARNING:kafka.coordinator:Heartbeat failed for group CONSUMER_GROUP_ID because it is rebalancing\n",
            "WARNING:kafka.coordinator:Heartbeat failed for group CONSUMER_GROUP_ID because it is rebalancing\n"
          ]
        },
        {
          "ename": "KeyboardInterrupt",
          "evalue": "",
          "output_type": "error",
          "traceback": [
            "\u001b[0;31m---------------------------------------------------------------------------\u001b[0m",
            "\u001b[0;31mKeyboardInterrupt\u001b[0m                         Traceback (most recent call last)",
            "\u001b[0;32m<ipython-input-13-3504a8b43a5e>\u001b[0m in \u001b[0;36m<cell line: 21>\u001b[0;34m()\u001b[0m\n\u001b[1;32m     19\u001b[0m \u001b[0mprint\u001b[0m\u001b[0;34m(\u001b[0m\u001b[0;34m\"En attente de messages...\"\u001b[0m\u001b[0;34m)\u001b[0m\u001b[0;34m\u001b[0m\u001b[0;34m\u001b[0m\u001b[0m\n\u001b[1;32m     20\u001b[0m \u001b[0;34m\u001b[0m\u001b[0m\n\u001b[0;32m---> 21\u001b[0;31m \u001b[0;32mfor\u001b[0m \u001b[0mmessage\u001b[0m \u001b[0;32min\u001b[0m \u001b[0mconsumer\u001b[0m\u001b[0;34m:\u001b[0m\u001b[0;34m\u001b[0m\u001b[0;34m\u001b[0m\u001b[0m\n\u001b[0m\u001b[1;32m     22\u001b[0m     \u001b[0;31m# Décodage et affichage du message\u001b[0m\u001b[0;34m\u001b[0m\u001b[0;34m\u001b[0m\u001b[0m\n\u001b[1;32m     23\u001b[0m     \u001b[0mprint\u001b[0m\u001b[0;34m(\u001b[0m\u001b[0;34mf\"Message reçu : {message.value}\"\u001b[0m\u001b[0;34m)\u001b[0m\u001b[0;34m\u001b[0m\u001b[0;34m\u001b[0m\u001b[0m\n",
            "\u001b[0;32m/usr/local/lib/python3.10/dist-packages/kafka/consumer/group.py\u001b[0m in \u001b[0;36m__next__\u001b[0;34m(self)\u001b[0m\n\u001b[1;32m   1191\u001b[0m             \u001b[0;32mreturn\u001b[0m \u001b[0mself\u001b[0m\u001b[0;34m.\u001b[0m\u001b[0mnext_v1\u001b[0m\u001b[0;34m(\u001b[0m\u001b[0;34m)\u001b[0m\u001b[0;34m\u001b[0m\u001b[0;34m\u001b[0m\u001b[0m\n\u001b[1;32m   1192\u001b[0m         \u001b[0;32melse\u001b[0m\u001b[0;34m:\u001b[0m\u001b[0;34m\u001b[0m\u001b[0;34m\u001b[0m\u001b[0m\n\u001b[0;32m-> 1193\u001b[0;31m             \u001b[0;32mreturn\u001b[0m \u001b[0mself\u001b[0m\u001b[0;34m.\u001b[0m\u001b[0mnext_v2\u001b[0m\u001b[0;34m(\u001b[0m\u001b[0;34m)\u001b[0m\u001b[0;34m\u001b[0m\u001b[0;34m\u001b[0m\u001b[0m\n\u001b[0m\u001b[1;32m   1194\u001b[0m \u001b[0;34m\u001b[0m\u001b[0m\n\u001b[1;32m   1195\u001b[0m     \u001b[0;32mdef\u001b[0m \u001b[0mnext_v2\u001b[0m\u001b[0;34m(\u001b[0m\u001b[0mself\u001b[0m\u001b[0;34m)\u001b[0m\u001b[0;34m:\u001b[0m\u001b[0;34m\u001b[0m\u001b[0;34m\u001b[0m\u001b[0m\n",
            "\u001b[0;32m/usr/local/lib/python3.10/dist-packages/kafka/consumer/group.py\u001b[0m in \u001b[0;36mnext_v2\u001b[0;34m(self)\u001b[0m\n\u001b[1;32m   1199\u001b[0m                 \u001b[0mself\u001b[0m\u001b[0;34m.\u001b[0m\u001b[0m_iterator\u001b[0m \u001b[0;34m=\u001b[0m \u001b[0mself\u001b[0m\u001b[0;34m.\u001b[0m\u001b[0m_message_generator_v2\u001b[0m\u001b[0;34m(\u001b[0m\u001b[0;34m)\u001b[0m\u001b[0;34m\u001b[0m\u001b[0;34m\u001b[0m\u001b[0m\n\u001b[1;32m   1200\u001b[0m             \u001b[0;32mtry\u001b[0m\u001b[0;34m:\u001b[0m\u001b[0;34m\u001b[0m\u001b[0;34m\u001b[0m\u001b[0m\n\u001b[0;32m-> 1201\u001b[0;31m                 \u001b[0;32mreturn\u001b[0m \u001b[0mnext\u001b[0m\u001b[0;34m(\u001b[0m\u001b[0mself\u001b[0m\u001b[0;34m.\u001b[0m\u001b[0m_iterator\u001b[0m\u001b[0;34m)\u001b[0m\u001b[0;34m\u001b[0m\u001b[0;34m\u001b[0m\u001b[0m\n\u001b[0m\u001b[1;32m   1202\u001b[0m             \u001b[0;32mexcept\u001b[0m \u001b[0mStopIteration\u001b[0m\u001b[0;34m:\u001b[0m\u001b[0;34m\u001b[0m\u001b[0;34m\u001b[0m\u001b[0m\n\u001b[1;32m   1203\u001b[0m                 \u001b[0mself\u001b[0m\u001b[0;34m.\u001b[0m\u001b[0m_iterator\u001b[0m \u001b[0;34m=\u001b[0m \u001b[0;32mNone\u001b[0m\u001b[0;34m\u001b[0m\u001b[0;34m\u001b[0m\u001b[0m\n",
            "\u001b[0;32m/usr/local/lib/python3.10/dist-packages/kafka/consumer/group.py\u001b[0m in \u001b[0;36m_message_generator_v2\u001b[0;34m(self)\u001b[0m\n\u001b[1;32m   1114\u001b[0m     \u001b[0;32mdef\u001b[0m \u001b[0m_message_generator_v2\u001b[0m\u001b[0;34m(\u001b[0m\u001b[0mself\u001b[0m\u001b[0;34m)\u001b[0m\u001b[0;34m:\u001b[0m\u001b[0;34m\u001b[0m\u001b[0;34m\u001b[0m\u001b[0m\n\u001b[1;32m   1115\u001b[0m         \u001b[0mtimeout_ms\u001b[0m \u001b[0;34m=\u001b[0m \u001b[0;36m1000\u001b[0m \u001b[0;34m*\u001b[0m \u001b[0;34m(\u001b[0m\u001b[0mself\u001b[0m\u001b[0;34m.\u001b[0m\u001b[0m_consumer_timeout\u001b[0m \u001b[0;34m-\u001b[0m \u001b[0mtime\u001b[0m\u001b[0;34m.\u001b[0m\u001b[0mtime\u001b[0m\u001b[0;34m(\u001b[0m\u001b[0;34m)\u001b[0m\u001b[0;34m)\u001b[0m\u001b[0;34m\u001b[0m\u001b[0;34m\u001b[0m\u001b[0m\n\u001b[0;32m-> 1116\u001b[0;31m         \u001b[0mrecord_map\u001b[0m \u001b[0;34m=\u001b[0m \u001b[0mself\u001b[0m\u001b[0;34m.\u001b[0m\u001b[0mpoll\u001b[0m\u001b[0;34m(\u001b[0m\u001b[0mtimeout_ms\u001b[0m\u001b[0;34m=\u001b[0m\u001b[0mtimeout_ms\u001b[0m\u001b[0;34m,\u001b[0m \u001b[0mupdate_offsets\u001b[0m\u001b[0;34m=\u001b[0m\u001b[0;32mFalse\u001b[0m\u001b[0;34m)\u001b[0m\u001b[0;34m\u001b[0m\u001b[0;34m\u001b[0m\u001b[0m\n\u001b[0m\u001b[1;32m   1117\u001b[0m         \u001b[0;32mfor\u001b[0m \u001b[0mtp\u001b[0m\u001b[0;34m,\u001b[0m \u001b[0mrecords\u001b[0m \u001b[0;32min\u001b[0m \u001b[0msix\u001b[0m\u001b[0;34m.\u001b[0m\u001b[0miteritems\u001b[0m\u001b[0;34m(\u001b[0m\u001b[0mrecord_map\u001b[0m\u001b[0;34m)\u001b[0m\u001b[0;34m:\u001b[0m\u001b[0;34m\u001b[0m\u001b[0;34m\u001b[0m\u001b[0m\n\u001b[1;32m   1118\u001b[0m             \u001b[0;31m# Generators are stateful, and it is possible that the tp / records\u001b[0m\u001b[0;34m\u001b[0m\u001b[0;34m\u001b[0m\u001b[0m\n",
            "\u001b[0;32m/usr/local/lib/python3.10/dist-packages/kafka/consumer/group.py\u001b[0m in \u001b[0;36mpoll\u001b[0;34m(self, timeout_ms, max_records, update_offsets)\u001b[0m\n\u001b[1;32m    653\u001b[0m         \u001b[0mremaining\u001b[0m \u001b[0;34m=\u001b[0m \u001b[0mtimeout_ms\u001b[0m\u001b[0;34m\u001b[0m\u001b[0;34m\u001b[0m\u001b[0m\n\u001b[1;32m    654\u001b[0m         \u001b[0;32mwhile\u001b[0m \u001b[0;32mTrue\u001b[0m\u001b[0;34m:\u001b[0m\u001b[0;34m\u001b[0m\u001b[0;34m\u001b[0m\u001b[0m\n\u001b[0;32m--> 655\u001b[0;31m             \u001b[0mrecords\u001b[0m \u001b[0;34m=\u001b[0m \u001b[0mself\u001b[0m\u001b[0;34m.\u001b[0m\u001b[0m_poll_once\u001b[0m\u001b[0;34m(\u001b[0m\u001b[0mremaining\u001b[0m\u001b[0;34m,\u001b[0m \u001b[0mmax_records\u001b[0m\u001b[0;34m,\u001b[0m \u001b[0mupdate_offsets\u001b[0m\u001b[0;34m=\u001b[0m\u001b[0mupdate_offsets\u001b[0m\u001b[0;34m)\u001b[0m\u001b[0;34m\u001b[0m\u001b[0;34m\u001b[0m\u001b[0m\n\u001b[0m\u001b[1;32m    656\u001b[0m             \u001b[0;32mif\u001b[0m \u001b[0mrecords\u001b[0m\u001b[0;34m:\u001b[0m\u001b[0;34m\u001b[0m\u001b[0;34m\u001b[0m\u001b[0m\n\u001b[1;32m    657\u001b[0m                 \u001b[0;32mreturn\u001b[0m \u001b[0mrecords\u001b[0m\u001b[0;34m\u001b[0m\u001b[0;34m\u001b[0m\u001b[0m\n",
            "\u001b[0;32m/usr/local/lib/python3.10/dist-packages/kafka/consumer/group.py\u001b[0m in \u001b[0;36m_poll_once\u001b[0;34m(self, timeout_ms, max_records, update_offsets)\u001b[0m\n\u001b[1;32m    673\u001b[0m             \u001b[0mdict\u001b[0m\u001b[0;34m:\u001b[0m \u001b[0mMap\u001b[0m \u001b[0mof\u001b[0m \u001b[0mtopic\u001b[0m \u001b[0mto\u001b[0m \u001b[0mlist\u001b[0m \u001b[0mof\u001b[0m \u001b[0mrecords\u001b[0m \u001b[0;34m(\u001b[0m\u001b[0mmay\u001b[0m \u001b[0mbe\u001b[0m \u001b[0mempty\u001b[0m\u001b[0;34m)\u001b[0m\u001b[0;34m.\u001b[0m\u001b[0;34m\u001b[0m\u001b[0;34m\u001b[0m\u001b[0m\n\u001b[1;32m    674\u001b[0m         \"\"\"\n\u001b[0;32m--> 675\u001b[0;31m         \u001b[0mself\u001b[0m\u001b[0;34m.\u001b[0m\u001b[0m_coordinator\u001b[0m\u001b[0;34m.\u001b[0m\u001b[0mpoll\u001b[0m\u001b[0;34m(\u001b[0m\u001b[0;34m)\u001b[0m\u001b[0;34m\u001b[0m\u001b[0;34m\u001b[0m\u001b[0m\n\u001b[0m\u001b[1;32m    676\u001b[0m \u001b[0;34m\u001b[0m\u001b[0m\n\u001b[1;32m    677\u001b[0m         \u001b[0;31m# Fetch positions if we have partitions we're subscribed to that we\u001b[0m\u001b[0;34m\u001b[0m\u001b[0;34m\u001b[0m\u001b[0m\n",
            "\u001b[0;32m/usr/local/lib/python3.10/dist-packages/kafka/coordinator/consumer.py\u001b[0m in \u001b[0;36mpoll\u001b[0;34m(self)\u001b[0m\n\u001b[1;32m    287\u001b[0m                     \u001b[0mself\u001b[0m\u001b[0;34m.\u001b[0m\u001b[0m_client\u001b[0m\u001b[0;34m.\u001b[0m\u001b[0mpoll\u001b[0m\u001b[0;34m(\u001b[0m\u001b[0mfuture\u001b[0m\u001b[0;34m=\u001b[0m\u001b[0mmetadata_update\u001b[0m\u001b[0;34m)\u001b[0m\u001b[0;34m\u001b[0m\u001b[0;34m\u001b[0m\u001b[0m\n\u001b[1;32m    288\u001b[0m \u001b[0;34m\u001b[0m\u001b[0m\n\u001b[0;32m--> 289\u001b[0;31m                 \u001b[0mself\u001b[0m\u001b[0;34m.\u001b[0m\u001b[0mensure_active_group\u001b[0m\u001b[0;34m(\u001b[0m\u001b[0;34m)\u001b[0m\u001b[0;34m\u001b[0m\u001b[0;34m\u001b[0m\u001b[0m\n\u001b[0m\u001b[1;32m    290\u001b[0m \u001b[0;34m\u001b[0m\u001b[0m\n\u001b[1;32m    291\u001b[0m             \u001b[0mself\u001b[0m\u001b[0;34m.\u001b[0m\u001b[0mpoll_heartbeat\u001b[0m\u001b[0;34m(\u001b[0m\u001b[0;34m)\u001b[0m\u001b[0;34m\u001b[0m\u001b[0;34m\u001b[0m\u001b[0m\n",
            "\u001b[0;32m/usr/local/lib/python3.10/dist-packages/kafka/coordinator/base.py\u001b[0m in \u001b[0;36mensure_active_group\u001b[0;34m(self)\u001b[0m\n\u001b[1;32m    405\u001b[0m                     \u001b[0mfuture\u001b[0m \u001b[0;34m=\u001b[0m \u001b[0mself\u001b[0m\u001b[0;34m.\u001b[0m\u001b[0mjoin_future\u001b[0m\u001b[0;34m\u001b[0m\u001b[0;34m\u001b[0m\u001b[0m\n\u001b[1;32m    406\u001b[0m \u001b[0;34m\u001b[0m\u001b[0m\n\u001b[0;32m--> 407\u001b[0;31m                 \u001b[0mself\u001b[0m\u001b[0;34m.\u001b[0m\u001b[0m_client\u001b[0m\u001b[0;34m.\u001b[0m\u001b[0mpoll\u001b[0m\u001b[0;34m(\u001b[0m\u001b[0mfuture\u001b[0m\u001b[0;34m=\u001b[0m\u001b[0mfuture\u001b[0m\u001b[0;34m)\u001b[0m\u001b[0;34m\u001b[0m\u001b[0;34m\u001b[0m\u001b[0m\n\u001b[0m\u001b[1;32m    408\u001b[0m \u001b[0;34m\u001b[0m\u001b[0m\n\u001b[1;32m    409\u001b[0m                 \u001b[0;32mif\u001b[0m \u001b[0mfuture\u001b[0m\u001b[0;34m.\u001b[0m\u001b[0msucceeded\u001b[0m\u001b[0;34m(\u001b[0m\u001b[0;34m)\u001b[0m\u001b[0;34m:\u001b[0m\u001b[0;34m\u001b[0m\u001b[0;34m\u001b[0m\u001b[0m\n",
            "\u001b[0;32m/usr/local/lib/python3.10/dist-packages/kafka/client_async.py\u001b[0m in \u001b[0;36mpoll\u001b[0;34m(self, timeout_ms, future)\u001b[0m\n\u001b[1;32m    600\u001b[0m                     \u001b[0mtimeout\u001b[0m \u001b[0;34m=\u001b[0m \u001b[0mmax\u001b[0m\u001b[0;34m(\u001b[0m\u001b[0;36m0\u001b[0m\u001b[0;34m,\u001b[0m \u001b[0mtimeout\u001b[0m\u001b[0;34m)\u001b[0m  \u001b[0;31m# avoid negative timeouts\u001b[0m\u001b[0;34m\u001b[0m\u001b[0;34m\u001b[0m\u001b[0m\n\u001b[1;32m    601\u001b[0m \u001b[0;34m\u001b[0m\u001b[0m\n\u001b[0;32m--> 602\u001b[0;31m                 \u001b[0mself\u001b[0m\u001b[0;34m.\u001b[0m\u001b[0m_poll\u001b[0m\u001b[0;34m(\u001b[0m\u001b[0mtimeout\u001b[0m \u001b[0;34m/\u001b[0m \u001b[0;36m1000\u001b[0m\u001b[0;34m)\u001b[0m\u001b[0;34m\u001b[0m\u001b[0;34m\u001b[0m\u001b[0m\n\u001b[0m\u001b[1;32m    603\u001b[0m \u001b[0;34m\u001b[0m\u001b[0m\n\u001b[1;32m    604\u001b[0m             \u001b[0;31m# called without the lock to avoid deadlock potential\u001b[0m\u001b[0;34m\u001b[0m\u001b[0;34m\u001b[0m\u001b[0m\n",
            "\u001b[0;32m/usr/local/lib/python3.10/dist-packages/kafka/client_async.py\u001b[0m in \u001b[0;36m_poll\u001b[0;34m(self, timeout)\u001b[0m\n\u001b[1;32m    632\u001b[0m \u001b[0;34m\u001b[0m\u001b[0m\n\u001b[1;32m    633\u001b[0m         \u001b[0mstart_select\u001b[0m \u001b[0;34m=\u001b[0m \u001b[0mtime\u001b[0m\u001b[0;34m.\u001b[0m\u001b[0mtime\u001b[0m\u001b[0;34m(\u001b[0m\u001b[0;34m)\u001b[0m\u001b[0;34m\u001b[0m\u001b[0;34m\u001b[0m\u001b[0m\n\u001b[0;32m--> 634\u001b[0;31m         \u001b[0mready\u001b[0m \u001b[0;34m=\u001b[0m \u001b[0mself\u001b[0m\u001b[0;34m.\u001b[0m\u001b[0m_selector\u001b[0m\u001b[0;34m.\u001b[0m\u001b[0mselect\u001b[0m\u001b[0;34m(\u001b[0m\u001b[0mtimeout\u001b[0m\u001b[0;34m)\u001b[0m\u001b[0;34m\u001b[0m\u001b[0;34m\u001b[0m\u001b[0m\n\u001b[0m\u001b[1;32m    635\u001b[0m         \u001b[0mend_select\u001b[0m \u001b[0;34m=\u001b[0m \u001b[0mtime\u001b[0m\u001b[0;34m.\u001b[0m\u001b[0mtime\u001b[0m\u001b[0;34m(\u001b[0m\u001b[0;34m)\u001b[0m\u001b[0;34m\u001b[0m\u001b[0;34m\u001b[0m\u001b[0m\n\u001b[1;32m    636\u001b[0m         \u001b[0;32mif\u001b[0m \u001b[0mself\u001b[0m\u001b[0;34m.\u001b[0m\u001b[0m_sensors\u001b[0m\u001b[0;34m:\u001b[0m\u001b[0;34m\u001b[0m\u001b[0;34m\u001b[0m\u001b[0m\n",
            "\u001b[0;32m/usr/lib/python3.10/selectors.py\u001b[0m in \u001b[0;36mselect\u001b[0;34m(self, timeout)\u001b[0m\n\u001b[1;32m    467\u001b[0m             \u001b[0mready\u001b[0m \u001b[0;34m=\u001b[0m \u001b[0;34m[\u001b[0m\u001b[0;34m]\u001b[0m\u001b[0;34m\u001b[0m\u001b[0;34m\u001b[0m\u001b[0m\n\u001b[1;32m    468\u001b[0m             \u001b[0;32mtry\u001b[0m\u001b[0;34m:\u001b[0m\u001b[0;34m\u001b[0m\u001b[0;34m\u001b[0m\u001b[0m\n\u001b[0;32m--> 469\u001b[0;31m                 \u001b[0mfd_event_list\u001b[0m \u001b[0;34m=\u001b[0m \u001b[0mself\u001b[0m\u001b[0;34m.\u001b[0m\u001b[0m_selector\u001b[0m\u001b[0;34m.\u001b[0m\u001b[0mpoll\u001b[0m\u001b[0;34m(\u001b[0m\u001b[0mtimeout\u001b[0m\u001b[0;34m,\u001b[0m \u001b[0mmax_ev\u001b[0m\u001b[0;34m)\u001b[0m\u001b[0;34m\u001b[0m\u001b[0;34m\u001b[0m\u001b[0m\n\u001b[0m\u001b[1;32m    470\u001b[0m             \u001b[0;32mexcept\u001b[0m \u001b[0mInterruptedError\u001b[0m\u001b[0;34m:\u001b[0m\u001b[0;34m\u001b[0m\u001b[0;34m\u001b[0m\u001b[0m\n\u001b[1;32m    471\u001b[0m                 \u001b[0;32mreturn\u001b[0m \u001b[0mready\u001b[0m\u001b[0;34m\u001b[0m\u001b[0;34m\u001b[0m\u001b[0m\n",
            "\u001b[0;31mKeyboardInterrupt\u001b[0m: "
          ]
        }
      ],
      "source": [
        "from kafka import KafkaConsumer\n",
        "import json\n",
        "\n",
        "# Configuration du consommateur Kafka\n",
        "TOPIC_NAME = \"ibtissam\"\n",
        "consumer = KafkaConsumer(\n",
        "    TOPIC_NAME,\n",
        "    bootstrap_servers='kafka-fadbfb9-hyibtissam-ca1b.h.aivencloud.com:11468',\n",
        "    client_id=\"CONSUMER_CLIENT_ID\",\n",
        "    group_id=\"CONSUMER_GROUP_ID\",\n",
        "    security_protocol='SSL',\n",
        "    ssl_cafile='/content/drive/MyDrive/Colab Notebooks/exam_BI/ca.pem',\n",
        "    ssl_certfile='/content/drive/MyDrive/Colab Notebooks/exam_BI/service.cert',\n",
        "    ssl_keyfile='/content/drive/MyDrive/Colab Notebooks/exam_BI/service.key',\n",
        "    value_deserializer=lambda m: json.loads(m.decode('utf-8'))  # Désérialisation des messages JSON\n",
        ")\n",
        "\n",
        "# Consommer les messages et les afficher\n",
        "print(\"En attente de messages...\")\n",
        "\n",
        "for message in consumer:\n",
        "    # Décodage et affichage du message\n",
        "    print(f\"Message reçu : {message.value}\")\n",
        "\n"
      ]
    }
  ],
  "metadata": {
    "colab": {
      "provenance": []
    },
    "kernelspec": {
      "display_name": "Python 3",
      "name": "python3"
    },
    "language_info": {
      "name": "python"
    }
  },
  "nbformat": 4,
  "nbformat_minor": 0
}