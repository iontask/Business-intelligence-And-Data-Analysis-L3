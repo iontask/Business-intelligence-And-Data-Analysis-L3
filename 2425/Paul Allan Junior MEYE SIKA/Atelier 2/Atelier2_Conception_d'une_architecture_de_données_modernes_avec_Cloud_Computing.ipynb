{
  "nbformat": 4,
  "nbformat_minor": 0,
  "metadata": {
    "colab": {
      "provenance": []
    },
    "kernelspec": {
      "name": "python3",
      "display_name": "Python 3"
    },
    "language_info": {
      "name": "python"
    }
  },
  "cells": [
    {
      "cell_type": "markdown",
      "source": [
        " Installation et Configuration"
      ],
      "metadata": {
        "id": "u1Dua4J_tEZ0"
      }
    },
    {
      "cell_type": "code",
      "execution_count": null,
      "metadata": {
        "colab": {
          "base_uri": "https://localhost:8080/"
        },
        "id": "gZ8Cj1-ftCD5",
        "outputId": "86bf1f9b-d634-4307-ceac-10b174c5b271"
      },
      "outputs": [
        {
          "output_type": "stream",
          "name": "stdout",
          "text": [
            "Requirement already satisfied: pandas in /usr/local/lib/python3.10/dist-packages (2.2.2)\n",
            "Requirement already satisfied: scikit-learn in /usr/local/lib/python3.10/dist-packages (1.5.2)\n",
            "Requirement already satisfied: matplotlib in /usr/local/lib/python3.10/dist-packages (3.8.0)\n",
            "Requirement already satisfied: seaborn in /usr/local/lib/python3.10/dist-packages (0.13.2)\n",
            "Requirement already satisfied: numpy>=1.22.4 in /usr/local/lib/python3.10/dist-packages (from pandas) (1.26.4)\n",
            "Requirement already satisfied: python-dateutil>=2.8.2 in /usr/local/lib/python3.10/dist-packages (from pandas) (2.8.2)\n",
            "Requirement already satisfied: pytz>=2020.1 in /usr/local/lib/python3.10/dist-packages (from pandas) (2024.2)\n",
            "Requirement already satisfied: tzdata>=2022.7 in /usr/local/lib/python3.10/dist-packages (from pandas) (2024.2)\n",
            "Requirement already satisfied: scipy>=1.6.0 in /usr/local/lib/python3.10/dist-packages (from scikit-learn) (1.13.1)\n",
            "Requirement already satisfied: joblib>=1.2.0 in /usr/local/lib/python3.10/dist-packages (from scikit-learn) (1.4.2)\n",
            "Requirement already satisfied: threadpoolctl>=3.1.0 in /usr/local/lib/python3.10/dist-packages (from scikit-learn) (3.5.0)\n",
            "Requirement already satisfied: contourpy>=1.0.1 in /usr/local/lib/python3.10/dist-packages (from matplotlib) (1.3.1)\n",
            "Requirement already satisfied: cycler>=0.10 in /usr/local/lib/python3.10/dist-packages (from matplotlib) (0.12.1)\n",
            "Requirement already satisfied: fonttools>=4.22.0 in /usr/local/lib/python3.10/dist-packages (from matplotlib) (4.55.0)\n",
            "Requirement already satisfied: kiwisolver>=1.0.1 in /usr/local/lib/python3.10/dist-packages (from matplotlib) (1.4.7)\n",
            "Requirement already satisfied: packaging>=20.0 in /usr/local/lib/python3.10/dist-packages (from matplotlib) (24.2)\n",
            "Requirement already satisfied: pillow>=6.2.0 in /usr/local/lib/python3.10/dist-packages (from matplotlib) (11.0.0)\n",
            "Requirement already satisfied: pyparsing>=2.3.1 in /usr/local/lib/python3.10/dist-packages (from matplotlib) (3.2.0)\n",
            "Requirement already satisfied: six>=1.5 in /usr/local/lib/python3.10/dist-packages (from python-dateutil>=2.8.2->pandas) (1.16.0)\n"
          ]
        }
      ],
      "source": [
        "# Installer des bibliothèques nécessaires (si ce n'est pas fait)\n",
        "!pip install pandas scikit-learn matplotlib seaborn"
      ]
    },
    {
      "cell_type": "markdown",
      "source": [
        "Chargement de la Base de Données"
      ],
      "metadata": {
        "id": "g5fCgbgMGeRw"
      }
    },
    {
      "cell_type": "code",
      "source": [
        "import pandas as pd\n",
        "\n",
        "# Charger le fichier CSV\n",
        "from google.colab import files\n",
        "uploaded = files.upload()  # Télécharger votre fichier disney_movies.csv\n",
        "\n",
        "# Lire le fichier\n",
        "data = pd.read_csv(\"/content/disney_movies.csv\")\n",
        "\n",
        "# Aperçu des données\n",
        "print(\"Aperçu des données :\")\n",
        "print(data.head())\n",
        "\n",
        "# Vérifier les colonnes\n",
        "print(\"\\nColonnes disponibles :\", data.columns)\n"
      ],
      "metadata": {
        "colab": {
          "base_uri": "https://localhost:8080/",
          "height": 425
        },
        "id": "oEZCX07TGfR7",
        "outputId": "46f273d0-a2ec-4278-9a74-265fc8019a14"
      },
      "execution_count": null,
      "outputs": [
        {
          "output_type": "display_data",
          "data": {
            "text/plain": [
              "<IPython.core.display.HTML object>"
            ],
            "text/html": [
              "\n",
              "     <input type=\"file\" id=\"files-b56c57b9-7429-4483-8827-e025f8ef1756\" name=\"files[]\" multiple disabled\n",
              "        style=\"border:none\" />\n",
              "     <output id=\"result-b56c57b9-7429-4483-8827-e025f8ef1756\">\n",
              "      Upload widget is only available when the cell has been executed in the\n",
              "      current browser session. Please rerun this cell to enable.\n",
              "      </output>\n",
              "      <script>// Copyright 2017 Google LLC\n",
              "//\n",
              "// Licensed under the Apache License, Version 2.0 (the \"License\");\n",
              "// you may not use this file except in compliance with the License.\n",
              "// You may obtain a copy of the License at\n",
              "//\n",
              "//      http://www.apache.org/licenses/LICENSE-2.0\n",
              "//\n",
              "// Unless required by applicable law or agreed to in writing, software\n",
              "// distributed under the License is distributed on an \"AS IS\" BASIS,\n",
              "// WITHOUT WARRANTIES OR CONDITIONS OF ANY KIND, either express or implied.\n",
              "// See the License for the specific language governing permissions and\n",
              "// limitations under the License.\n",
              "\n",
              "/**\n",
              " * @fileoverview Helpers for google.colab Python module.\n",
              " */\n",
              "(function(scope) {\n",
              "function span(text, styleAttributes = {}) {\n",
              "  const element = document.createElement('span');\n",
              "  element.textContent = text;\n",
              "  for (const key of Object.keys(styleAttributes)) {\n",
              "    element.style[key] = styleAttributes[key];\n",
              "  }\n",
              "  return element;\n",
              "}\n",
              "\n",
              "// Max number of bytes which will be uploaded at a time.\n",
              "const MAX_PAYLOAD_SIZE = 100 * 1024;\n",
              "\n",
              "function _uploadFiles(inputId, outputId) {\n",
              "  const steps = uploadFilesStep(inputId, outputId);\n",
              "  const outputElement = document.getElementById(outputId);\n",
              "  // Cache steps on the outputElement to make it available for the next call\n",
              "  // to uploadFilesContinue from Python.\n",
              "  outputElement.steps = steps;\n",
              "\n",
              "  return _uploadFilesContinue(outputId);\n",
              "}\n",
              "\n",
              "// This is roughly an async generator (not supported in the browser yet),\n",
              "// where there are multiple asynchronous steps and the Python side is going\n",
              "// to poll for completion of each step.\n",
              "// This uses a Promise to block the python side on completion of each step,\n",
              "// then passes the result of the previous step as the input to the next step.\n",
              "function _uploadFilesContinue(outputId) {\n",
              "  const outputElement = document.getElementById(outputId);\n",
              "  const steps = outputElement.steps;\n",
              "\n",
              "  const next = steps.next(outputElement.lastPromiseValue);\n",
              "  return Promise.resolve(next.value.promise).then((value) => {\n",
              "    // Cache the last promise value to make it available to the next\n",
              "    // step of the generator.\n",
              "    outputElement.lastPromiseValue = value;\n",
              "    return next.value.response;\n",
              "  });\n",
              "}\n",
              "\n",
              "/**\n",
              " * Generator function which is called between each async step of the upload\n",
              " * process.\n",
              " * @param {string} inputId Element ID of the input file picker element.\n",
              " * @param {string} outputId Element ID of the output display.\n",
              " * @return {!Iterable<!Object>} Iterable of next steps.\n",
              " */\n",
              "function* uploadFilesStep(inputId, outputId) {\n",
              "  const inputElement = document.getElementById(inputId);\n",
              "  inputElement.disabled = false;\n",
              "\n",
              "  const outputElement = document.getElementById(outputId);\n",
              "  outputElement.innerHTML = '';\n",
              "\n",
              "  const pickedPromise = new Promise((resolve) => {\n",
              "    inputElement.addEventListener('change', (e) => {\n",
              "      resolve(e.target.files);\n",
              "    });\n",
              "  });\n",
              "\n",
              "  const cancel = document.createElement('button');\n",
              "  inputElement.parentElement.appendChild(cancel);\n",
              "  cancel.textContent = 'Cancel upload';\n",
              "  const cancelPromise = new Promise((resolve) => {\n",
              "    cancel.onclick = () => {\n",
              "      resolve(null);\n",
              "    };\n",
              "  });\n",
              "\n",
              "  // Wait for the user to pick the files.\n",
              "  const files = yield {\n",
              "    promise: Promise.race([pickedPromise, cancelPromise]),\n",
              "    response: {\n",
              "      action: 'starting',\n",
              "    }\n",
              "  };\n",
              "\n",
              "  cancel.remove();\n",
              "\n",
              "  // Disable the input element since further picks are not allowed.\n",
              "  inputElement.disabled = true;\n",
              "\n",
              "  if (!files) {\n",
              "    return {\n",
              "      response: {\n",
              "        action: 'complete',\n",
              "      }\n",
              "    };\n",
              "  }\n",
              "\n",
              "  for (const file of files) {\n",
              "    const li = document.createElement('li');\n",
              "    li.append(span(file.name, {fontWeight: 'bold'}));\n",
              "    li.append(span(\n",
              "        `(${file.type || 'n/a'}) - ${file.size} bytes, ` +\n",
              "        `last modified: ${\n",
              "            file.lastModifiedDate ? file.lastModifiedDate.toLocaleDateString() :\n",
              "                                    'n/a'} - `));\n",
              "    const percent = span('0% done');\n",
              "    li.appendChild(percent);\n",
              "\n",
              "    outputElement.appendChild(li);\n",
              "\n",
              "    const fileDataPromise = new Promise((resolve) => {\n",
              "      const reader = new FileReader();\n",
              "      reader.onload = (e) => {\n",
              "        resolve(e.target.result);\n",
              "      };\n",
              "      reader.readAsArrayBuffer(file);\n",
              "    });\n",
              "    // Wait for the data to be ready.\n",
              "    let fileData = yield {\n",
              "      promise: fileDataPromise,\n",
              "      response: {\n",
              "        action: 'continue',\n",
              "      }\n",
              "    };\n",
              "\n",
              "    // Use a chunked sending to avoid message size limits. See b/62115660.\n",
              "    let position = 0;\n",
              "    do {\n",
              "      const length = Math.min(fileData.byteLength - position, MAX_PAYLOAD_SIZE);\n",
              "      const chunk = new Uint8Array(fileData, position, length);\n",
              "      position += length;\n",
              "\n",
              "      const base64 = btoa(String.fromCharCode.apply(null, chunk));\n",
              "      yield {\n",
              "        response: {\n",
              "          action: 'append',\n",
              "          file: file.name,\n",
              "          data: base64,\n",
              "        },\n",
              "      };\n",
              "\n",
              "      let percentDone = fileData.byteLength === 0 ?\n",
              "          100 :\n",
              "          Math.round((position / fileData.byteLength) * 100);\n",
              "      percent.textContent = `${percentDone}% done`;\n",
              "\n",
              "    } while (position < fileData.byteLength);\n",
              "  }\n",
              "\n",
              "  // All done.\n",
              "  yield {\n",
              "    response: {\n",
              "      action: 'complete',\n",
              "    }\n",
              "  };\n",
              "}\n",
              "\n",
              "scope.google = scope.google || {};\n",
              "scope.google.colab = scope.google.colab || {};\n",
              "scope.google.colab._files = {\n",
              "  _uploadFiles,\n",
              "  _uploadFilesContinue,\n",
              "};\n",
              "})(self);\n",
              "</script> "
            ]
          },
          "metadata": {}
        },
        {
          "output_type": "stream",
          "name": "stdout",
          "text": [
            "Saving disney_movies.csv to disney_movies (1).csv\n",
            "Aperçu des données :\n",
            "                       movie_title release_date      genre mpaa_rating  \\\n",
            "0  Snow White and the Seven Dwarfs   1937-12-21    Musical           G   \n",
            "1                        Pinocchio   1940-02-09  Adventure           G   \n",
            "2                         Fantasia   1940-11-13    Musical           G   \n",
            "3                Song of the South   1946-11-12  Adventure           G   \n",
            "4                       Cinderella   1950-02-15      Drama           G   \n",
            "\n",
            "   total_gross  inflation_adjusted_gross  \n",
            "0    184925485                5228953251  \n",
            "1     84300000                2188229052  \n",
            "2     83320000                2187090808  \n",
            "3     65000000                1078510579  \n",
            "4     85000000                 920608730  \n",
            "\n",
            "Colonnes disponibles : Index(['movie_title', 'release_date', 'genre', 'mpaa_rating', 'total_gross',\n",
            "       'inflation_adjusted_gross'],\n",
            "      dtype='object')\n"
          ]
        }
      ]
    },
    {
      "cell_type": "markdown",
      "source": [
        "Nettoyage et Préparatio des Données\n"
      ],
      "metadata": {
        "id": "CRcp5xZSG4WJ"
      }
    },
    {
      "cell_type": "code",
      "source": [
        "# Vérifier les valeurs manquantes\n",
        "print(\"\\nValeurs manquantes :\")\n",
        "print(data.isnull().sum())\n",
        "\n",
        "# Nettoyer les données (supprimer les lignes avec valeurs manquantes)\n",
        "data_cleaned = data.dropna()\n",
        "\n",
        "# Vérifier les types des données\n",
        "print(\"\\nTypes des colonnes après nettoyage :\")\n",
        "print(data_cleaned.info())\n"
      ],
      "metadata": {
        "colab": {
          "base_uri": "https://localhost:8080/"
        },
        "id": "VAK19osTG51G",
        "outputId": "ce5f53e7-1292-4787-8a78-7007013a57e3"
      },
      "execution_count": null,
      "outputs": [
        {
          "output_type": "stream",
          "name": "stdout",
          "text": [
            "\n",
            "Valeurs manquantes :\n",
            "movie_title                  0\n",
            "release_date                 0\n",
            "genre                       17\n",
            "mpaa_rating                 56\n",
            "total_gross                  0\n",
            "inflation_adjusted_gross     0\n",
            "dtype: int64\n",
            "\n",
            "Types des colonnes après nettoyage :\n",
            "<class 'pandas.core.frame.DataFrame'>\n",
            "Index: 513 entries, 0 to 578\n",
            "Data columns (total 6 columns):\n",
            " #   Column                    Non-Null Count  Dtype \n",
            "---  ------                    --------------  ----- \n",
            " 0   movie_title               513 non-null    object\n",
            " 1   release_date              513 non-null    object\n",
            " 2   genre                     513 non-null    object\n",
            " 3   mpaa_rating               513 non-null    object\n",
            " 4   total_gross               513 non-null    int64 \n",
            " 5   inflation_adjusted_gross  513 non-null    int64 \n",
            "dtypes: int64(2), object(4)\n",
            "memory usage: 28.1+ KB\n",
            "None\n"
          ]
        }
      ]
    },
    {
      "cell_type": "markdown",
      "source": [
        "Création d’un Système de Recommandation"
      ],
      "metadata": {
        "id": "ot3y8cyIHAYb"
      }
    },
    {
      "cell_type": "code",
      "source": [
        "import pandas as pd\n",
        "from sklearn.feature_extraction.text import TfidfVectorizer\n",
        "from sklearn.metrics.pairwise import cosine_similarity\n",
        "\n",
        "# Vérifier les colonnes nécessaires\n",
        "required_columns = ['movie_title', 'genres']\n",
        "for col in required_columns:\n",
        "    if col not in data_cleaned.columns:\n",
        "        raise ValueError(f\"La colonne '{col}' est manquante dans le DataFrame.\")\n",
        "\n",
        "# Nettoyer et préparer les données\n",
        "data_cleaned = data_cleaned.reset_index(drop=True)  # Réinitialiser les indices\n",
        "data_cleaned.loc[:, 'genres'] = data_cleaned['genres'].fillna('')\n",
        "data_cleaned.loc[:, 'movie_title'] = data_cleaned['movie_title'].str.strip().str.lower()\n",
        "\n",
        "# TF-IDF sur la colonne 'genres'\n",
        "tfidf = TfidfVectorizer(stop_words='english')\n",
        "tfidf_matrix = tfidf.fit_transform(data_cleaned['genres'])\n",
        "\n",
        "# Calculer la similarité cosinus\n",
        "cosine_sim = cosine_similarity(tfidf_matrix, tfidf_matrix)\n",
        "\n",
        "# Vérifier la correspondance des tailles\n",
        "if cosine_sim.shape[0] != data_cleaned.shape[0]:\n",
        "    raise ValueError(\"La taille de la matrice de similarité et du DataFrame ne correspondent pas.\")\n",
        "\n",
        "# Fonction de recommandation\n",
        "def recommend(title, data, similarity_matrix):\n",
        "    # Standardiser le titre\n",
        "    title = title.strip().lower()\n",
        "\n",
        "    # Créer la série d'indices\n",
        "    indices = pd.Series(data.index, index=data['movie_title']).drop_duplicates()\n",
        "\n",
        "    # Vérifier si le film existe\n",
        "    if title not in indices:\n",
        "        return \"Film non trouvé dans la base.\"\n",
        "\n",
        "    # Récupérer l'index du film\n",
        "    idx = indices[title]\n",
        "\n",
        "    # Vérifier la validité de l'indice\n",
        "    if idx >= similarity_matrix.shape[0]:\n",
        "        raise IndexError(f\"L'indice {idx} est hors limites pour la matrice de taille {similarity_matrix.shape[0]}.\")\n",
        "\n",
        "    # Calculer les scores de similarité\n",
        "    sim_scores = list(enumerate(similarity_matrix[idx]))\n",
        "    sim_scores = sorted(sim_scores, key=lambda x: x[1], reverse=True)\n",
        "    sim_scores = sim_scores[1:6]  # Top 5 similaires\n",
        "\n",
        "    # Extraire les indices des films similaires\n",
        "    movie_indices = [i[0] for i in sim_scores]\n",
        "    return data['movie_title'].iloc[movie_indices]\n",
        "\n",
        "# Tester la recommandation\n",
        "film_test = \"Frozen\"  # Remplacez par un titre réel\n",
        "try:\n",
        "    print(f\"\\nFilms recommandés pour '{film_test}':\")\n",
        "    print(recommend(film_test, data_cleaned, cosine_sim))\n",
        "except ValueError as e:\n",
        "    print(f\"Erreur : {e}\")\n",
        "except IndexError as e:\n",
        "    print(f\"Erreur d'indice : {e}\")\n",
        "\n"
      ],
      "metadata": {
        "colab": {
          "base_uri": "https://localhost:8080/"
        },
        "id": "ubU8V1QkG_tu",
        "outputId": "84124449-0132-47f8-9aa7-f3c34b3b8601"
      },
      "execution_count": null,
      "outputs": [
        {
          "output_type": "stream",
          "name": "stdout",
          "text": [
            "\n",
            "Films recommandés pour 'Frozen':\n",
            "1             pinocchio\n",
            "2              fantasia\n",
            "3     song of the south\n",
            "4            cinderella\n",
            "5    lady and the tramp\n",
            "Name: movie_title, dtype: object\n"
          ]
        }
      ]
    },
    {
      "cell_type": "code",
      "source": [
        "import pandas as pd\n",
        "from sklearn.feature_extraction.text import TfidfVectorizer\n",
        "from sklearn.metrics.pairwise import cosine_similarity\n",
        "\n",
        "# Vérifier si la colonne 'movie_title' existe et la remplir si besoin\n",
        "if 'movie_title' not in data_cleaned.columns:\n",
        "    data_cleaned['movie_title'] = \"Unknown\"  # Exemple de valeur par défaut\n",
        "\n",
        "# TF-IDF sur la colonne 'genres'\n",
        "tfidf = TfidfVectorizer(stop_words='english')\n",
        "data_cleaned['genres'] = data_cleaned['genres'].fillna('')  # Remplir les valeurs manquantes\n",
        "tfidf_matrix = tfidf.fit_transform(data_cleaned['genres'])\n",
        "\n",
        "# Calculer la similarité cosinus\n",
        "cosine_sim = cosine_similarity(tfidf_matrix, tfidf_matrix)\n",
        "\n",
        "# Fonction de recommandation\n",
        "def recommend(title, data, similarity_matrix):\n",
        "    # Utiliser 'movie_title' au lieu de 'title' pour créer l'index\n",
        "    # Réinitialiser l'index de data_cleaned pour éviter les problèmes d'indexation\n",
        "    data = data.reset_index(drop=True)  # <---- This line is added\n",
        "    indices = pd.Series(data.index, index=data['movie_title']).drop_duplicates()\n",
        "    if title not in indices:\n",
        "        return \"Film non trouvé dans la base.\"\n",
        "\n",
        "    idx = indices[title]\n",
        "    sim_scores = list(enumerate(similarity_matrix[idx]))\n",
        "    sim_scores = sorted(sim_scores, key=lambda x: x[1], reverse=True)\n",
        "    sim_scores = sim_scores[1:6]  # Top 5 similaires\n",
        "\n",
        "    movie_indices = [i[0] for i in sim_scores]\n",
        "    # Utiliser 'movie_title' au lieu de 'title' pour renvoyer les recommandations\n",
        "    return data['movie_title'].iloc[movie_indices]\n",
        "\n",
        "# Tester la recommandation\n",
        "film_test = \"Frozen\"  # Remplacez par un titre réel\n",
        "print(f\"\\nFilms recommandés pour '{film_test}':\")\n",
        "print(recommend(film_test, data_cleaned, cosine_sim))"
      ],
      "metadata": {
        "colab": {
          "base_uri": "https://localhost:8080/"
        },
        "id": "yvYXAFPaH7JN",
        "outputId": "1aa8d98f-5670-4b19-d94d-83cfc6d47544"
      },
      "execution_count": null,
      "outputs": [
        {
          "output_type": "stream",
          "name": "stdout",
          "text": [
            "\n",
            "Films recommandés pour 'Frozen':\n",
            "1             Pinocchio\n",
            "2              Fantasia\n",
            "3     Song of the South\n",
            "4            Cinderella\n",
            "5    Lady and the Tramp\n",
            "Name: movie_title, dtype: object\n"
          ]
        },
        {
          "output_type": "stream",
          "name": "stderr",
          "text": [
            "<ipython-input-9-36385b97ddf0>:11: SettingWithCopyWarning: \n",
            "A value is trying to be set on a copy of a slice from a DataFrame.\n",
            "Try using .loc[row_indexer,col_indexer] = value instead\n",
            "\n",
            "See the caveats in the documentation: https://pandas.pydata.org/pandas-docs/stable/user_guide/indexing.html#returning-a-view-versus-a-copy\n",
            "  data_cleaned['genres'] = data_cleaned['genres'].fillna('')  # Remplir les valeurs manquantes\n"
          ]
        }
      ]
    },
    {
      "cell_type": "markdown",
      "source": [
        " Visualisation des Résultats"
      ],
      "metadata": {
        "id": "oiP92mOuKgrh"
      }
    },
    {
      "cell_type": "code",
      "source": [
        "import matplotlib.pyplot as plt\n",
        "import seaborn as sns\n",
        "\n",
        "# Exemple : Distribution des genres\n",
        "plt.figure(figsize=(12, 6))\n",
        "sns.countplot(y='genres', data=data_cleaned, order=data_cleaned['genres'].value_counts().index)\n",
        "plt.title(\"Distribution des Genres des Films\")\n",
        "plt.show()\n"
      ],
      "metadata": {
        "colab": {
          "base_uri": "https://localhost:8080/",
          "height": 362
        },
        "id": "aat-SO9mKhXr",
        "outputId": "f7aa5ac8-6b96-433a-a2be-4f1bc3e6c2ed"
      },
      "execution_count": null,
      "outputs": [
        {
          "output_type": "display_data",
          "data": {
            "text/plain": [
              "<Figure size 1200x600 with 1 Axes>"
            ],
            "image/png": "[encoded data removed]"
          },
          "metadata": {}
        }
      ]
    },
    {
      "cell_type": "markdown",
      "source": [
        " Exportation et Simulation Cloud"
      ],
      "metadata": {
        "id": "mhhNck1fLMCD"
      }
    },
    {
      "cell_type": "code",
      "source": [
        "# Exporter le fichier nettoyé pour le cloud\n",
        "data_cleaned.to_csv('cleaned_disney_movies.csv', index=False)\n",
        "print(\"\\nFichier nettoyé exporté avec succès.\")\n"
      ],
      "metadata": {
        "id": "qmMTbxPELJ0P",
        "outputId": "9d23eff1-63e6-40d0-d547-1782cd32dd5e",
        "colab": {
          "base_uri": "https://localhost:8080/"
        }
      },
      "execution_count": null,
      "outputs": [
        {
          "output_type": "stream",
          "name": "stdout",
          "text": [
            "\n",
            "Fichier nettoyé exporté avec succès.\n"
          ]
        }
      ]
    },
    {
      "cell_type": "code",
      "source": [
        "pip install pcloud\n"
      ],
      "metadata": {
        "colab": {
          "base_uri": "https://localhost:8080/",
          "height": 523
        },
        "id": "tFmVJ85P9M-h",
        "outputId": "8b3f8225-78dd-46ff-8305-d9cc592a469d"
      },
      "execution_count": null,
      "outputs": [
        {
          "output_type": "stream",
          "name": "stdout",
          "text": [
            "Collecting pcloud\n",
            "  Downloading pcloud-1.4-py3-none-any.whl.metadata (10.0 kB)\n",
            "Requirement already satisfied: requests in /usr/local/lib/python3.10/dist-packages (from pcloud) (2.32.3)\n",
            "Requirement already satisfied: requests-toolbelt in /usr/local/lib/python3.10/dist-packages (from pcloud) (1.0.0)\n",
            "Requirement already satisfied: wheel>=0.45.1 in /usr/local/lib/python3.10/dist-packages (from pcloud) (0.45.1)\n",
            "Collecting setuptools>=75.6.0 (from pcloud)\n",
            "  Downloading setuptools-75.8.0-py3-none-any.whl.metadata (6.7 kB)\n",
            "Requirement already satisfied: charset-normalizer<4,>=2 in /usr/local/lib/python3.10/dist-packages (from requests->pcloud) (3.4.1)\n",
            "Requirement already satisfied: idna<4,>=2.5 in /usr/local/lib/python3.10/dist-packages (from requests->pcloud) (3.10)\n",
            "Requirement already satisfied: urllib3<3,>=1.21.1 in /usr/local/lib/python3.10/dist-packages (from requests->pcloud) (2.3.0)\n",
            "Requirement already satisfied: certifi>=2017.4.17 in /usr/local/lib/python3.10/dist-packages (from requests->pcloud) (2024.12.14)\n",
            "Downloading pcloud-1.4-py3-none-any.whl (23 kB)\n",
            "Downloading setuptools-75.8.0-py3-none-any.whl (1.2 MB)\n",
            "\u001b[2K   \u001b[90m━━━━━━━━━━━━━━━━━━━━━━━━━━━━━━━━━━━━━━━━\u001b[0m \u001b[32m1.2/1.2 MB\u001b[0m \u001b[31m17.8 MB/s\u001b[0m eta \u001b[36m0:00:00\u001b[0m\n",
            "\u001b[?25hInstalling collected packages: setuptools, pcloud\n",
            "  Attempting uninstall: setuptools\n",
            "    Found existing installation: setuptools 75.1.0\n",
            "    Uninstalling setuptools-75.1.0:\n",
            "      Successfully uninstalled setuptools-75.1.0\n",
            "\u001b[31mERROR: pip's dependency resolver does not currently take into account all the packages that are installed. This behaviour is the source of the following dependency conflicts.\n",
            "ipython 7.34.0 requires jedi>=0.16, which is not installed.\u001b[0m\u001b[31m\n",
            "\u001b[0mSuccessfully installed pcloud-1.4 setuptools-75.8.0\n"
          ]
        },
        {
          "output_type": "display_data",
          "data": {
            "application/vnd.colab-display-data+json": {
              "pip_warning": {
                "packages": [
                  "_distutils_hack",
                  "setuptools"
                ]
              },
              "id": "845231cef1474c26b8599e0a0b58913a"
            }
          },
          "metadata": {}
        }
      ]
    },
    {
      "cell_type": "code",
      "source": [
        "import pcloud\n",
        "\n",
        "# Remplacez 'your_access_token' par votre jeton d'API pCloud\n",
        "token = 'dghdghdj'\n",
        "client = pcloud.Api(token=token)\n",
        "\n",
        "# Vérification de la connexion\n",
        "if client.check_token():\n",
        "    print(\"Connexion établie avec succès !\")\n",
        "\n",
        "# Liste des fichiers dans le répertoire racine\n",
        "files = client.listfolder(path='/')\n",
        "for file in files['metadata']['contents']:\n",
        "    print(file['name'])\n"
      ],
      "metadata": {
        "colab": {
          "base_uri": "https://localhost:8080/",
          "height": 222
        },
        "id": "yyYt1UWE9U28",
        "outputId": "6ffa7f5b-4474-418c-dc75-cc7926f9bed5"
      },
      "execution_count": null,
      "outputs": [
        {
          "output_type": "error",
          "ename": "AttributeError",
          "evalue": "module 'pcloud' has no attribute 'Api'",
          "traceback": [
            "\u001b[0;31m---------------------------------------------------------------------------\u001b[0m",
            "\u001b[0;31mAttributeError\u001b[0m                            Traceback (most recent call last)",
            "\u001b[0;32m<ipython-input-2-a0bb79906c9d>\u001b[0m in \u001b[0;36m<cell line: 5>\u001b[0;34m()\u001b[0m\n\u001b[1;32m      3\u001b[0m \u001b[0;31m# Remplacez 'your_access_token' par votre jeton d'API pCloud\u001b[0m\u001b[0;34m\u001b[0m\u001b[0;34m\u001b[0m\u001b[0m\n\u001b[1;32m      4\u001b[0m \u001b[0mtoken\u001b[0m \u001b[0;34m=\u001b[0m \u001b[0;34m'dghdghdj'\u001b[0m\u001b[0;34m\u001b[0m\u001b[0;34m\u001b[0m\u001b[0m\n\u001b[0;32m----> 5\u001b[0;31m \u001b[0mclient\u001b[0m \u001b[0;34m=\u001b[0m \u001b[0mpcloud\u001b[0m\u001b[0;34m.\u001b[0m\u001b[0mApi\u001b[0m\u001b[0;34m(\u001b[0m\u001b[0mtoken\u001b[0m\u001b[0;34m=\u001b[0m\u001b[0mtoken\u001b[0m\u001b[0;34m)\u001b[0m\u001b[0;34m\u001b[0m\u001b[0;34m\u001b[0m\u001b[0m\n\u001b[0m\u001b[1;32m      6\u001b[0m \u001b[0;34m\u001b[0m\u001b[0m\n\u001b[1;32m      7\u001b[0m \u001b[0;31m# Vérification de la connexion\u001b[0m\u001b[0;34m\u001b[0m\u001b[0;34m\u001b[0m\u001b[0m\n",
            "\u001b[0;31mAttributeError\u001b[0m: module 'pcloud' has no attribute 'Api'"
          ]
        }
      ]
    }
  ]
}