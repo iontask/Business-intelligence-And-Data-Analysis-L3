{
  "nbformat": 4,
  "nbformat_minor": 0,
  "metadata": {
    "colab": {
      "provenance": []
    },
    "kernelspec": {
      "name": "python3",
      "display_name": "Python 3"
    },
    "language_info": {
      "name": "python"
    }
  },
  "cells": [
    {
      "cell_type": "code",
      "source": [
        "!pip install confluent_kafka\n"
      ],
      "metadata": {
        "colab": {
          "base_uri": "https://localhost:8080/"
        },
        "id": "tO8bklx38VhV",
        "outputId": "23663970-5e3b-4919-ca6e-443ceec0f941"
      },
      "execution_count": null,
      "outputs": [
        {
          "output_type": "stream",
          "name": "stdout",
          "text": [
            "Collecting confluent_kafka\n",
            "  Downloading confluent_kafka-2.6.1-cp310-cp310-manylinux_2_28_x86_64.whl.metadata (51 kB)\n",
            "\u001b[?25l     \u001b[90m━━━━━━━━━━━━━━━━━━━━━━━━━━━━━━━━━━━━━━━━\u001b[0m \u001b[32m0.0/51.8 kB\u001b[0m \u001b[31m?\u001b[0m eta \u001b[36m-:--:--\u001b[0m\r\u001b[2K     \u001b[90m━━━━━━━━━━━━━━━━━━━━━━━━━━━━━━━━━━━━━━━━\u001b[0m \u001b[32m51.8/51.8 kB\u001b[0m \u001b[31m3.2 MB/s\u001b[0m eta \u001b[36m0:00:00\u001b[0m\n",
            "\u001b[?25hDownloading confluent_kafka-2.6.1-cp310-cp310-manylinux_2_28_x86_64.whl (3.9 MB)\n",
            "\u001b[2K   \u001b[90m━━━━━━━━━━━━━━━━━━━━━━━━━━━━━━━━━━━━━━━━\u001b[0m \u001b[32m3.9/3.9 MB\u001b[0m \u001b[31m48.7 MB/s\u001b[0m eta \u001b[36m0:00:00\u001b[0m\n",
            "\u001b[?25hInstalling collected packages: confluent_kafka\n",
            "Successfully installed confluent_kafka-2.6.1\n"
          ]
        }
      ]
    },
    {
      "cell_type": "code",
      "source": [
        "from confluent_kafka import Producer\n",
        "\n",
        "# Configuration du producteur Kafka\n",
        "conf = {\n",
        "    'bootstrap.servers': 'kafka-368df8fe-mulongochristian044-a131.g.aivencloud.com:10745',\n",
        "    'security.protocol': 'ssl',\n",
        "    'ssl.key.location': '/content/service.key',         # Clé privée\n",
        "    'ssl.certificate.location': '/content/service.cert',  # Certificat utilisateur\n",
        "    'ssl.ca.location': '/content/ca.pem',               # Certificat CA\n",
        "    'client.id': 'python-producer',\n",
        "    'acks': 'all',\n",
        "}\n",
        "\n",
        "# Initialisation du producteur Kafka\n",
        "try:\n",
        "    producer = Producer(conf)\n",
        "    print(\"Connexion au producteur Kafka réussie !\")\n",
        "except Exception as e:\n",
        "    print(f\"Erreur lors de la connexion au producteur Kafka : {e}\")\n",
        "\n",
        "# Fonction pour gérer les callbacks de livraison\n",
        "def delivery_report(err, msg):\n",
        "    if err:\n",
        "        print(f\"Erreur de livraison : {err}\")\n",
        "    else:\n",
        "        print(f\"Message envoyé à {msg.topic()} [{msg.partition()}]\")\n",
        "\n",
        "# Envoi d'un message à un topic Kafka\n",
        "try:\n",
        "    topic = 'message'  # Nom du topic\n",
        "    producer.produce(topic, key=\"key\", value=\"Hello Kafka!\", callback=delivery_report)\n",
        "    producer.flush()  # Vide le buffer pour s'assurer que les messages sont envoyés\n",
        "    print(\"Message envoyé avec succès !\")\n",
        "except Exception as e:\n",
        "    print(f\"Erreur lors de l'envoi du message : {e}\")\n"
      ],
      "metadata": {
        "colab": {
          "base_uri": "https://localhost:8080/"
        },
        "id": "n-uRxptj8V65",
        "outputId": "e5531180-ad3e-4bed-b52a-3f84234ae6a1"
      },
      "execution_count": null,
      "outputs": [
        {
          "output_type": "stream",
          "name": "stdout",
          "text": [
            "Connexion au producteur Kafka réussie !\n",
            "Erreur de livraison : KafkaError{code=_MSG_TIMED_OUT,val=-192,str=\"Local: Message timed out\"}\n",
            "Message envoyé avec succès !\n"
          ]
        }
      ]
    },
    {
      "cell_type": "code",
      "source": [
        "from pyspark.sql import SparkSession\n",
        "from pyspark.sql.functions import upper, col, avg\n",
        "\n",
        "# Créer une session Spark\n",
        "spark = SparkSession.builder.appName(\"StudentDataProcessing\").getOrCreate()\n",
        "\n",
        "# Charger les données du CSV\n",
        "df = spark.read.csv(\"/content/students.csv\", header=True, inferSchema=True)\n",
        "\n",
        "# Transformations\n",
        "df_transformed = df.select(\n",
        "    upper(col(\"Prénom\")).alias(\"first_name\"),\n",
        "    upper(col(\"Nom\")).alias(\"last_name\"),\n",
        "    col(\"Âge\").alias(\"age\"),\n",
        "    col(\"Filière\").alias(\"major\")\n",
        ")\n",
        "\n",
        "# Filtrer les étudiants de plus de 20 ans\n",
        "df_filtered = df_transformed.filter(col(\"age\") > 20)\n",
        "\n",
        "# Calculer la moyenne d'âge par filière\n",
        "avg_age_by_major = df_filtered.groupBy(\"major\").agg(\n",
        "    avg(\"age\").alias(\"average_age\")\n",
        ")\n",
        "avg_age_by_major.show()\n"
      ],
      "metadata": {
        "colab": {
          "base_uri": "https://localhost:8080/"
        },
        "id": "RMzBAlZmKmsc",
        "outputId": "2f5f06a9-0314-47c8-c76b-19bf079d275c"
      },
      "execution_count": null,
      "outputs": [
        {
          "output_type": "stream",
          "name": "stdout",
          "text": [
            "+-------------+------------------+\n",
            "|        major|       average_age|\n",
            "+-------------+------------------+\n",
            "| Informatique| 25.57532342563883|\n",
            "|       Chimie|25.504345127250154|\n",
            "|Mathématiques|25.557639907776146|\n",
            "|     Économie| 25.48632567849687|\n",
            "|     Physique|25.474925033605626|\n",
            "|  Philosophie| 25.48234075608493|\n",
            "|  Littérature|25.473225276979893|\n",
            "|     Biologie|25.492301333057767|\n",
            "+-------------+------------------+\n",
            "\n"
          ]
        }
      ]
    },
    {
      "cell_type": "code",
      "source": [
        "# des événements d'ajout d'étudiants\n",
        "students = [\n",
        "    {\"first_name\": \"Alice\", \"last_name\": \"Dupont\", \"age\": 22, \"major\": \"Informatique\"},\n",
        "    {\"first_name\": \"Bob\", \"last_name\": \"Martin\", \"age\": 19, \"major\": \"Physique\"},\n",
        "    {\"first_name\": \"Claire\", \"last_name\": \"Lemoine\", \"age\": 23, \"major\": \"Biologie\"}\n",
        "]\n",
        "\n",
        "for student in students:\n",
        "    producer.produce(\n",
        "        topic,\n",
        "        key=\"student\",\n",
        "        value=f\"{student['first_name']},{student['last_name']},{student['age']},{student['major']}\",\n",
        "        callback=delivery_report\n",
        "    )\n",
        "\n",
        "producer.flush()\n"
      ],
      "metadata": {
        "colab": {
          "base_uri": "https://localhost:8080/"
        },
        "id": "oS4-iM7jKyHg",
        "outputId": "8df7ec09-8ead-4e1b-9c61-6ecc807df994"
      },
      "execution_count": null,
      "outputs": [
        {
          "output_type": "stream",
          "name": "stdout",
          "text": [
            "Erreur de livraison : KafkaError{code=_MSG_TIMED_OUT,val=-192,str=\"Local: Message timed out\"}\n",
            "Erreur de livraison : KafkaError{code=_MSG_TIMED_OUT,val=-192,str=\"Local: Message timed out\"}\n",
            "Erreur de livraison : KafkaError{code=_MSG_TIMED_OUT,val=-192,str=\"Local: Message timed out\"}\n"
          ]
        },
        {
          "output_type": "execute_result",
          "data": {
            "text/plain": [
              "0"
            ]
          },
          "metadata": {},
          "execution_count": 4
        }
      ]
    },
    {
      "cell_type": "code",
      "source": [
        "from confluent_kafka import Consumer, KafkaError\n",
        "import json\n",
        "from pyspark.sql import SparkSession\n",
        "from pyspark.sql.functions import col\n",
        "from pyspark.sql.types import StructType, StructField, StringType, IntegerType\n",
        "\n",
        "# Configuration du schéma Spark\n",
        "student_schema = StructType([\n",
        "    StructField(\"first_name\", StringType(), True),\n",
        "    StructField(\"last_name\", StringType(), True),\n",
        "    StructField(\"age\", IntegerType(), True),\n",
        "    StructField(\"major\", StringType(), True)\n",
        "])\n",
        "\n",
        "# Configuration du consommateur Kafka\n",
        "consumer_conf = {\n",
        "    'bootstrap.servers': 'kafka-368df8fe-mulongochristian044-a131.g.aivencloud.com:10745',\n",
        "    'security.protocol': 'SSL',\n",
        "    'ssl.key.location': '/content/service.key',\n",
        "    'ssl.certificate.location': '/content/service.cert',\n",
        "    'ssl.ca.location': '/content/ca.pem',\n",
        "    'group.id': 'student-consumer',\n",
        "    'auto.offset.reset': 'earliest'\n",
        "}\n",
        "\n",
        "# Créer le consommateur Kafka\n",
        "consumer = Consumer(consumer_conf)\n",
        "consumer.subscribe(['message'])\n",
        "\n",
        "# Initialiser Spark\n",
        "spark = SparkSession.builder \\\n",
        "    .appName(\"KafkaStudentProcessing\") \\\n",
        "    .getOrCreate()\n",
        "\n",
        "# Liste pour stocker les données\n",
        "student_data = []\n",
        "\n",
        "def parse_student_data(message):\n",
        "    try:\n",
        "        # Essayer de parser comme JSON\n",
        "        if isinstance(message, str):\n",
        "            try:\n",
        "                data = json.loads(message)\n",
        "                return {\n",
        "                    'first_name': data.get('first_name', ''),\n",
        "                    'last_name': data.get('last_name', ''),\n",
        "                    'age': int(data.get('age', 0)),\n",
        "                    'major': data.get('major', '')\n",
        "                }\n",
        "            except json.JSONDecodeError:\n",
        "                # Si ce n'est pas du JSON, essayer le format CSV\n",
        "                parts = message.split(',')\n",
        "                if len(parts) >= 4:\n",
        "                    try:\n",
        "                        return {\n",
        "                            'first_name': parts[0].strip(' \"'),\n",
        "                            'last_name': parts[1].strip(' \"'),\n",
        "                            'age': int(parts[2].strip(' \"')),\n",
        "                            'major': parts[3].strip(' \"')\n",
        "                        }\n",
        "                    except ValueError:\n",
        "                        # Extraire l'âge avec un parsing plus flexible\n",
        "                        age_part = [p for p in parts if 'Age' in p]\n",
        "                        if age_part:\n",
        "                            age = int(''.join(filter(str.isdigit, age_part[0])))\n",
        "                            return {\n",
        "                                'first_name': parts[0].strip(' \"'),\n",
        "                                'last_name': parts[1].strip(' \"'),\n",
        "                                'age': age,\n",
        "                                'major': parts[-1].strip(' \"')\n",
        "                            }\n",
        "        return None\n",
        "    except Exception as e:\n",
        "        print(f\"Erreur de parsing : {e}\")\n",
        "        return None\n",
        "\n",
        "try:\n",
        "    while True:\n",
        "        msg = consumer.poll(1.0)\n",
        "\n",
        "        if msg is None:\n",
        "            continue\n",
        "        if msg.error():\n",
        "            if msg.error().code() == KafkaError._PARTITION_EOF:\n",
        "                print('Fin des messages')\n",
        "                break\n",
        "            else:\n",
        "                print(f'Erreur: {msg.error()}')\n",
        "                break\n",
        "\n",
        "        # Décoder et traiter le message\n",
        "        message_decoded = msg.value().decode('utf-8')\n",
        "        student_info = parse_student_data(message_decoded)\n",
        "\n",
        "        if student_info:\n",
        "            student_data.append(student_info)\n",
        "\n",
        "        # Limiter à 10 messages pour l'exemple\n",
        "        if len(student_data) >= 10:\n",
        "            break\n",
        "\n",
        "except Exception as e:\n",
        "    print(f\"Erreur lors de la consommation : {e}\")\n",
        "finally:\n",
        "    consumer.close()\n",
        "\n",
        "# Convertir en DataFrame Spark\n",
        "df = spark.createDataFrame(student_data, schema=student_schema)\n",
        "\n",
        "# Transformation et analyse\n",
        "df_filtered = df.filter(col(\"age\") > 20)\n",
        "result = df_filtered.groupBy(\"major\").agg({\"age\": \"avg\"})\n",
        "result.show()"
      ],
      "metadata": {
        "colab": {
          "base_uri": "https://localhost:8080/"
        },
        "id": "Y6plaMsFqPhH",
        "outputId": "e669a89b-e085-4800-d9e9-29af4a97a722"
      },
      "execution_count": null,
      "outputs": [
        {
          "output_type": "stream",
          "name": "stdout",
          "text": [
            "+------------+--------+\n",
            "|       major|avg(age)|\n",
            "+------------+--------+\n",
            "|Informatique|    22.0|\n",
            "|    Biologie|    23.0|\n",
            "+------------+--------+\n",
            "\n"
          ]
        }
      ]
    },
    {
      "cell_type": "code",
      "source": [
        "import sqlite3\n",
        "import pandas as pd\n",
        "\n",
        "# Créer ou se connecter à la base de données\n",
        "conn = sqlite3.connect('/content/students_analysis.db')\n",
        "\n",
        "# Convertir le DataFrame Spark en DataFrame Pandas pour SQLite\n",
        "pandas_df = result.toPandas()\n",
        "\n",
        "# Créer une table et sauvegarder les résultats\n",
        "pandas_df.to_sql('average_age_by_major', conn, if_exists='replace', index=False)\n",
        "\n",
        "# Vérifier les données sauvegardées\n",
        "cursor = conn.cursor()\n",
        "cursor.execute(\"SELECT * FROM average_age_by_major\")\n",
        "print(cursor.fetchall())\n",
        "\n",
        "# Fermer la connexion\n",
        "conn.close()\n",
        "\n",
        "# Rapport d'analyse\n",
        "print(\"\\nRapport d'analyse :\")\n",
        "print(\"1. Nombre de filières analysées : \", len(result.collect()))\n",
        "print(\"2. Âge moyen par filière sauvegardé dans la base de données SQLite\")"
      ],
      "metadata": {
        "colab": {
          "base_uri": "https://localhost:8080/"
        },
        "id": "OL4xlTYPrvSp",
        "outputId": "4afab1a8-e0cf-447a-ddb9-be0baa620bdd"
      },
      "execution_count": null,
      "outputs": [
        {
          "output_type": "stream",
          "name": "stdout",
          "text": [
            "[('Informatique', 22.0), ('Biologie', 23.0)]\n",
            "\n",
            "Rapport d'analyse :\n",
            "1. Nombre de filières analysées :  2\n",
            "2. Âge moyen par filière sauvegardé dans la base de données SQLite\n"
          ]
        }
      ]
    },
    {
      "cell_type": "code",
      "source": [
        "import matplotlib.pyplot as plt\n",
        "import pandas as pd\n",
        "\n",
        "# Convertir le DataFrame Spark en DataFrame Pandas\n",
        "df_pandas = df.toPandas()\n",
        "\n",
        "# Créer un boxplot de la distribution des âges par filière\n",
        "plt.figure(figsize=(10, 6))\n",
        "boxplot = df_pandas.boxplot(column='age', by='major')\n",
        "plt.title('Distribution des Âges par Filière')\n",
        "plt.suptitle('')  # Supprimer le titre automatique\n",
        "plt.ylabel('Âge')\n",
        "plt.xlabel('Filière')\n",
        "plt.xticks(rotation=45)\n",
        "plt.tight_layout()\n",
        "\n",
        "# Sauvegarder le graphique\n",
        "plt.savefig('/content/age_distribution.png')\n",
        "\n",
        "# Afficher des statistiques supplémentaires\n",
        "print(\"Statistiques détaillées par filière :\")\n",
        "print(df_pandas.groupby('major')['age'].describe())"
      ],
      "metadata": {
        "colab": {
          "base_uri": "https://localhost:8080/",
          "height": 591
        },
        "id": "4cgaj1WYrvjU",
        "outputId": "c41b5eaf-5c3d-4809-dab1-9c1e45b7f483"
      },
      "execution_count": null,
      "outputs": [
        {
          "output_type": "stream",
          "name": "stdout",
          "text": [
            "Statistiques détaillées par filière :\n",
            "              count  mean  std   min   25%   50%   75%   max\n",
            "major                                                       \n",
            "Biologie        4.0  23.0  0.0  23.0  23.0  23.0  23.0  23.0\n",
            "Informatique    3.0  22.0  0.0  22.0  22.0  22.0  22.0  22.0\n",
            "Physique        3.0  19.0  0.0  19.0  19.0  19.0  19.0  19.0\n"
          ]
        },
        {
          "output_type": "display_data",
          "data": {
            "text/plain": [
              "<Figure size 1000x600 with 0 Axes>"
            ]
          },
          "metadata": {}
        },
        {
          "output_type": "display_data",
          "data": {
            "text/plain": [
              "<Figure size 640x480 with 1 Axes>"
            ],
            "image/png": "[encoded data removed]"
          },
          "metadata": {}
        }
      ]
    },
    {
      "cell_type": "code",
      "source": [
        "import os\n",
        "from datetime import datetime\n",
        "\n",
        "# Créer le rapport\n",
        "rapport = f\"\"\"# Rapport de Traitement de Données Étudiantes\n",
        "\n",
        "## Informations Générales\n",
        "- **Date du rapport :** {datetime.now().strftime('%d/%m/%Y %H:%M')}\n",
        "- **Outils utilisés :**\n",
        "  * Apache Kafka\n",
        "  * Apache Spark\n",
        "  * Python\n",
        "  * SQLite\n",
        "\n",
        "## Configuration de l'Environnement\n",
        "- Serveur Kafka : kafka-368df8fe-mulongochristian044-a131.g.aivencloud.com:10745\n",
        "- Protocole de sécurité : SSL\n",
        "- Topic : message\n",
        "\n",
        "## Étapes de Traitement des Données\n",
        "\n",
        "### 1. Extraction des Données\n",
        "- Source : Topic Kafka 'message'\n",
        "- Méthode : Consumer Kafka avec Confluent Kafka\n",
        "- Nombre de messages traités : 10\n",
        "\n",
        "### 2. Transformation des Données\n",
        "- Filtrage : Étudiants de plus de 20 ans\n",
        "- Transformations appliquées :\n",
        "  * Extraction des informations personnelles\n",
        "  * Calcul de la moyenne d'âge par filière\n",
        "\n",
        "## Résultats de l'Analyse\n",
        "\n",
        "### Distribution des Âges par Filière\n",
        "| Filière        | Nombre | Moyenne | Min | Max | Écart-type |\n",
        "|----------------|--------|---------|-----|-----|------------|\n",
        "| Biologie       | 3      | 23.0    | 23  | 23  | 0.0        |\n",
        "| Informatique   | 4      | 22.0    | 22  | 22  | 0.0        |\n",
        "| Physique       | 3      | 19.0    | 19  | 19  | 0.0        |\n",
        "\n",
        "### Analyse Statistique\n",
        "- Total des filières analysées : 3\n",
        "- Âge moyen global : 21.33\n",
        "\n",
        "## Défis Techniques\n",
        "1. Gestion de la connexion Kafka sécurisée\n",
        "2. Parsing flexible des messages\n",
        "3. Conversion entre différents formats de données (Kafka → Spark → Pandas)\n",
        "\n",
        "## Recommandations\n",
        "- Enrichir les sources de données\n",
        "- Mettre en place une collecte continue\n",
        "- Développer des analyses plus avancées\n",
        "\n",
        "## Fichiers Générés\n",
        "- Base de données : /content/students_analysis.db\n",
        "- Graphique : /content/age_distribution.png\n",
        "\"\"\"\n",
        "\n",
        "# Sauvegarder le rapport\n",
        "with open('/content/rapport_analyse_etudiants.md', 'w') as f:\n",
        "    f.write(rapport)\n",
        "\n",
        "print(\"Rapport généré avec succès à /content/rapport_analyse_etudiants.md\")"
      ],
      "metadata": {
        "colab": {
          "base_uri": "https://localhost:8080/"
        },
        "id": "Q2HQx--_sqZK",
        "outputId": "db26ed8d-82f4-4d56-835f-f23ea2c01ad4"
      },
      "execution_count": null,
      "outputs": [
        {
          "output_type": "stream",
          "name": "stdout",
          "text": [
            "Rapport généré avec succès à /content/rapport_analyse_etudiants.md\n"
          ]
        }
      ]
    },
    {
      "cell_type": "code",
      "source": [],
      "metadata": {
        "id": "oYDFY8qLsqmB"
      },
      "execution_count": null,
      "outputs": []
    }
  ]
}